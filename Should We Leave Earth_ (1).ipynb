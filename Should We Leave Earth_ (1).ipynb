{
 "cells": [
  {
   "cell_type": "markdown",
   "metadata": {},
   "source": [
    "# Should We Leave Earth?\n",
    "**By Allan Yin, Grace Zhu, June Kim **\n",
    "\n",
    "This notebook will look at the livability of our planet in terms of environment conditions and technological progress in 2020 and come to a decision as to whether humans truly need to seek out other planets. These metrics were chosen because they are often cited as key reasons for and against leaving planet earth."
   ]
  },
  {
   "cell_type": "markdown",
   "metadata": {},
   "source": [
    "# Rising Global Temperatures\n",
    "Question this investigation aims to analyze:\n",
    "\n",
    "Do rising temperatures indicate the earth is becoming less habitable?\n",
    "\n",
    "\n",
    "6 major cities were chosen from around the world, one from each continent that excluding Antartica. Cities with large population sizes were chosen because temperature change in these areas would affect a large number of people. The six cities ended up being Las Vegas, Beijing, Sao Paulo, Lagos, Madrid and Auckland."
   ]
  },
  {
   "cell_type": "code",
   "execution_count": 2,
   "metadata": {
    "scrolled": true
   },
   "outputs": [
    {
     "name": "stdout",
     "output_type": "stream",
     "text": [
      "Requirement already satisfied: cufflinks in /opt/conda/lib/python3.7/site-packages (0.17.3)\n",
      "Requirement already satisfied: ipywidgets in /opt/conda/lib/python3.7/site-packages (7.5.1)\n",
      "Requirement already satisfied: plotly>=4.1.1 in /opt/conda/lib/python3.7/site-packages (from cufflinks) (4.6.0)\n",
      "Requirement already satisfied: setuptools>=34.4.1 in /opt/conda/lib/python3.7/site-packages (from cufflinks) (46.1.3.post20200325)\n",
      "Requirement already satisfied: six>=1.9.0 in /opt/conda/lib/python3.7/site-packages (from cufflinks) (1.14.0)\n",
      "Requirement already satisfied: colorlover>=0.2.1 in /opt/conda/lib/python3.7/site-packages (from cufflinks) (0.3.0)\n",
      "Requirement already satisfied: numpy>=1.9.2 in /opt/conda/lib/python3.7/site-packages (from cufflinks) (1.18.1)\n",
      "Requirement already satisfied: ipython>=5.3.0 in /opt/conda/lib/python3.7/site-packages (from cufflinks) (7.13.0)\n",
      "Requirement already satisfied: pandas>=0.19.2 in /opt/conda/lib/python3.7/site-packages (from cufflinks) (1.0.3)\n",
      "Requirement already satisfied: ipykernel>=4.5.1 in /opt/conda/lib/python3.7/site-packages (from ipywidgets) (5.2.0)\n",
      "Requirement already satisfied: nbformat>=4.2.0 in /opt/conda/lib/python3.7/site-packages (from ipywidgets) (5.0.4)\n",
      "Requirement already satisfied: widgetsnbextension~=3.5.0 in /opt/conda/lib/python3.7/site-packages (from ipywidgets) (3.5.1)\n",
      "Requirement already satisfied: traitlets>=4.3.1 in /opt/conda/lib/python3.7/site-packages (from ipywidgets) (4.3.3)\n",
      "Requirement already satisfied: retrying>=1.3.3 in /opt/conda/lib/python3.7/site-packages (from plotly>=4.1.1->cufflinks) (1.3.3)\n",
      "Requirement already satisfied: jedi>=0.10 in /opt/conda/lib/python3.7/site-packages (from ipython>=5.3.0->cufflinks) (0.16.0)\n",
      "Requirement already satisfied: backcall in /opt/conda/lib/python3.7/site-packages (from ipython>=5.3.0->cufflinks) (0.1.0)\n",
      "Requirement already satisfied: prompt-toolkit!=3.0.0,!=3.0.1,<3.1.0,>=2.0.0 in /opt/conda/lib/python3.7/site-packages (from ipython>=5.3.0->cufflinks) (3.0.5)\n",
      "Requirement already satisfied: pickleshare in /opt/conda/lib/python3.7/site-packages (from ipython>=5.3.0->cufflinks) (0.7.5)\n",
      "Requirement already satisfied: pygments in /opt/conda/lib/python3.7/site-packages (from ipython>=5.3.0->cufflinks) (2.6.1)\n",
      "Requirement already satisfied: decorator in /opt/conda/lib/python3.7/site-packages (from ipython>=5.3.0->cufflinks) (4.4.2)\n",
      "Requirement already satisfied: pexpect; sys_platform != \"win32\" in /opt/conda/lib/python3.7/site-packages (from ipython>=5.3.0->cufflinks) (4.8.0)\n",
      "Requirement already satisfied: python-dateutil>=2.6.1 in /opt/conda/lib/python3.7/site-packages (from pandas>=0.19.2->cufflinks) (2.8.1)\n",
      "Requirement already satisfied: pytz>=2017.2 in /opt/conda/lib/python3.7/site-packages (from pandas>=0.19.2->cufflinks) (2019.3)\n",
      "Requirement already satisfied: tornado>=4.2 in /opt/conda/lib/python3.7/site-packages (from ipykernel>=4.5.1->ipywidgets) (6.0.4)\n",
      "Requirement already satisfied: jupyter-client in /opt/conda/lib/python3.7/site-packages (from ipykernel>=4.5.1->ipywidgets) (6.1.2)\n",
      "Requirement already satisfied: jsonschema!=2.5.0,>=2.4 in /opt/conda/lib/python3.7/site-packages (from nbformat>=4.2.0->ipywidgets) (3.2.0)\n",
      "Requirement already satisfied: jupyter-core in /opt/conda/lib/python3.7/site-packages (from nbformat>=4.2.0->ipywidgets) (4.6.3)\n",
      "Requirement already satisfied: ipython-genutils in /opt/conda/lib/python3.7/site-packages (from nbformat>=4.2.0->ipywidgets) (0.2.0)\n",
      "Requirement already satisfied: notebook>=4.4.1 in /opt/conda/lib/python3.7/site-packages (from widgetsnbextension~=3.5.0->ipywidgets) (6.0.3)\n",
      "Requirement already satisfied: parso>=0.5.2 in /opt/conda/lib/python3.7/site-packages (from jedi>=0.10->ipython>=5.3.0->cufflinks) (0.6.2)\n",
      "Requirement already satisfied: wcwidth in /opt/conda/lib/python3.7/site-packages (from prompt-toolkit!=3.0.0,!=3.0.1,<3.1.0,>=2.0.0->ipython>=5.3.0->cufflinks) (0.1.9)\n",
      "Requirement already satisfied: ptyprocess>=0.5 in /opt/conda/lib/python3.7/site-packages (from pexpect; sys_platform != \"win32\"->ipython>=5.3.0->cufflinks) (0.6.0)\n",
      "Requirement already satisfied: pyzmq>=13 in /opt/conda/lib/python3.7/site-packages (from jupyter-client->ipykernel>=4.5.1->ipywidgets) (19.0.0)\n",
      "Requirement already satisfied: importlib-metadata; python_version < \"3.8\" in /opt/conda/lib/python3.7/site-packages (from jsonschema!=2.5.0,>=2.4->nbformat>=4.2.0->ipywidgets) (1.6.0)\n",
      "Requirement already satisfied: attrs>=17.4.0 in /opt/conda/lib/python3.7/site-packages (from jsonschema!=2.5.0,>=2.4->nbformat>=4.2.0->ipywidgets) (19.3.0)\n",
      "Requirement already satisfied: pyrsistent>=0.14.0 in /opt/conda/lib/python3.7/site-packages (from jsonschema!=2.5.0,>=2.4->nbformat>=4.2.0->ipywidgets) (0.16.0)\n",
      "Requirement already satisfied: prometheus-client in /opt/conda/lib/python3.7/site-packages (from notebook>=4.4.1->widgetsnbextension~=3.5.0->ipywidgets) (0.7.1)\n",
      "Requirement already satisfied: Send2Trash in /opt/conda/lib/python3.7/site-packages (from notebook>=4.4.1->widgetsnbextension~=3.5.0->ipywidgets) (1.5.0)\n",
      "Requirement already satisfied: terminado>=0.8.1 in /opt/conda/lib/python3.7/site-packages (from notebook>=4.4.1->widgetsnbextension~=3.5.0->ipywidgets) (0.8.3)\n",
      "Requirement already satisfied: jinja2 in /opt/conda/lib/python3.7/site-packages (from notebook>=4.4.1->widgetsnbextension~=3.5.0->ipywidgets) (2.11.1)\n",
      "Requirement already satisfied: nbconvert in /opt/conda/lib/python3.7/site-packages (from notebook>=4.4.1->widgetsnbextension~=3.5.0->ipywidgets) (5.6.1)\n",
      "Requirement already satisfied: zipp>=0.5 in /opt/conda/lib/python3.7/site-packages (from importlib-metadata; python_version < \"3.8\"->jsonschema!=2.5.0,>=2.4->nbformat>=4.2.0->ipywidgets) (3.1.0)\n",
      "Requirement already satisfied: MarkupSafe>=0.23 in /opt/conda/lib/python3.7/site-packages (from jinja2->notebook>=4.4.1->widgetsnbextension~=3.5.0->ipywidgets) (1.1.1)\n",
      "Requirement already satisfied: entrypoints>=0.2.2 in /opt/conda/lib/python3.7/site-packages (from nbconvert->notebook>=4.4.1->widgetsnbextension~=3.5.0->ipywidgets) (0.3)\n",
      "Requirement already satisfied: pandocfilters>=1.4.1 in /opt/conda/lib/python3.7/site-packages (from nbconvert->notebook>=4.4.1->widgetsnbextension~=3.5.0->ipywidgets) (1.4.2)\n",
      "Requirement already satisfied: bleach in /opt/conda/lib/python3.7/site-packages (from nbconvert->notebook>=4.4.1->widgetsnbextension~=3.5.0->ipywidgets) (3.1.4)\n",
      "Requirement already satisfied: mistune<2,>=0.8.1 in /opt/conda/lib/python3.7/site-packages (from nbconvert->notebook>=4.4.1->widgetsnbextension~=3.5.0->ipywidgets) (0.8.4)\n",
      "Requirement already satisfied: defusedxml in /opt/conda/lib/python3.7/site-packages (from nbconvert->notebook>=4.4.1->widgetsnbextension~=3.5.0->ipywidgets) (0.6.0)\n",
      "Requirement already satisfied: testpath in /opt/conda/lib/python3.7/site-packages (from nbconvert->notebook>=4.4.1->widgetsnbextension~=3.5.0->ipywidgets) (0.4.4)\n",
      "Requirement already satisfied: webencodings in /opt/conda/lib/python3.7/site-packages (from bleach->nbconvert->notebook>=4.4.1->widgetsnbextension~=3.5.0->ipywidgets) (0.5.1)\n"
     ]
    },
    {
     "data": {
      "text/html": [
       "        <script type=\"text/javascript\">\n",
       "        window.PlotlyConfig = {MathJaxConfig: 'local'};\n",
       "        if (window.MathJax) {MathJax.Hub.Config({SVG: {font: \"STIX-Web\"}});}\n",
       "        if (typeof require !== 'undefined') {\n",
       "        require.undef(\"plotly\");\n",
       "        requirejs.config({\n",
       "            paths: {\n",
       "                'plotly': ['https://cdn.plot.ly/plotly-latest.min']\n",
       "            }\n",
       "        });\n",
       "        require(['plotly'], function(Plotly) {\n",
       "            window._Plotly = Plotly;\n",
       "        });\n",
       "        }\n",
       "        </script>\n",
       "        "
      ]
     },
     "metadata": {},
     "output_type": "display_data"
    }
   ],
   "source": [
    "#Import pandas DataFrame\n",
    "import pandas as pd \n",
    "\n",
    "#Imports cufflinks DataFrame\n",
    "!pip install cufflinks ipywidgets\n",
    "import cufflinks as cf\n",
    "cf.go_offline() #command to display graphics correctly in a Jupyter notebook"
   ]
  },
  {
   "cell_type": "code",
   "execution_count": 4,
   "metadata": {},
   "outputs": [
    {
     "data": {
      "text/html": [
       "<div>\n",
       "<style scoped>\n",
       "    .dataframe tbody tr th:only-of-type {\n",
       "        vertical-align: middle;\n",
       "    }\n",
       "\n",
       "    .dataframe tbody tr th {\n",
       "        vertical-align: top;\n",
       "    }\n",
       "\n",
       "    .dataframe thead th {\n",
       "        text-align: right;\n",
       "    }\n",
       "</style>\n",
       "<table border=\"1\" class=\"dataframe\">\n",
       "  <thead>\n",
       "    <tr style=\"text-align: right;\">\n",
       "      <th></th>\n",
       "      <th>Years</th>\n",
       "      <th>Las Vegas</th>\n",
       "      <th>Beijing</th>\n",
       "      <th>Sao Paulo</th>\n",
       "      <th>Lagos</th>\n",
       "      <th>Madrid</th>\n",
       "      <th>Auckland</th>\n",
       "    </tr>\n",
       "  </thead>\n",
       "  <tbody>\n",
       "    <tr>\n",
       "      <th>0</th>\n",
       "      <td>1901</td>\n",
       "      <td>16.983334</td>\n",
       "      <td>11.691667</td>\n",
       "      <td>17.775000</td>\n",
       "      <td>26.858334</td>\n",
       "      <td>13.408333</td>\n",
       "      <td>14.041667</td>\n",
       "    </tr>\n",
       "    <tr>\n",
       "      <th>1</th>\n",
       "      <td>1902</td>\n",
       "      <td>16.558334</td>\n",
       "      <td>12.650000</td>\n",
       "      <td>18.900000</td>\n",
       "      <td>27.125000</td>\n",
       "      <td>13.633333</td>\n",
       "      <td>13.541667</td>\n",
       "    </tr>\n",
       "    <tr>\n",
       "      <th>2</th>\n",
       "      <td>1903</td>\n",
       "      <td>16.675000</td>\n",
       "      <td>12.058334</td>\n",
       "      <td>18.258334</td>\n",
       "      <td>27.266667</td>\n",
       "      <td>13.766667</td>\n",
       "      <td>14.116667</td>\n",
       "    </tr>\n",
       "    <tr>\n",
       "      <th>3</th>\n",
       "      <td>1904</td>\n",
       "      <td>17.416667</td>\n",
       "      <td>11.983334</td>\n",
       "      <td>17.916667</td>\n",
       "      <td>26.966667</td>\n",
       "      <td>14.258333</td>\n",
       "      <td>13.741667</td>\n",
       "    </tr>\n",
       "    <tr>\n",
       "      <th>4</th>\n",
       "      <td>1905</td>\n",
       "      <td>16.641667</td>\n",
       "      <td>11.716667</td>\n",
       "      <td>18.491667</td>\n",
       "      <td>27.158334</td>\n",
       "      <td>13.433333</td>\n",
       "      <td>14.150000</td>\n",
       "    </tr>\n",
       "    <tr>\n",
       "      <th>...</th>\n",
       "      <td>...</td>\n",
       "      <td>...</td>\n",
       "      <td>...</td>\n",
       "      <td>...</td>\n",
       "      <td>...</td>\n",
       "      <td>...</td>\n",
       "      <td>...</td>\n",
       "    </tr>\n",
       "    <tr>\n",
       "      <th>111</th>\n",
       "      <td>2012</td>\n",
       "      <td>18.608334</td>\n",
       "      <td>12.375000</td>\n",
       "      <td>20.850000</td>\n",
       "      <td>27.533333</td>\n",
       "      <td>15.408334</td>\n",
       "      <td>14.850000</td>\n",
       "    </tr>\n",
       "    <tr>\n",
       "      <th>112</th>\n",
       "      <td>2013</td>\n",
       "      <td>18.025000</td>\n",
       "      <td>12.641667</td>\n",
       "      <td>20.200000</td>\n",
       "      <td>27.800001</td>\n",
       "      <td>15.258334</td>\n",
       "      <td>15.416667</td>\n",
       "    </tr>\n",
       "    <tr>\n",
       "      <th>113</th>\n",
       "      <td>2014</td>\n",
       "      <td>19.383334</td>\n",
       "      <td>13.600000</td>\n",
       "      <td>21.133334</td>\n",
       "      <td>27.900000</td>\n",
       "      <td>16.016667</td>\n",
       "      <td>15.150000</td>\n",
       "    </tr>\n",
       "    <tr>\n",
       "      <th>114</th>\n",
       "      <td>2015</td>\n",
       "      <td>19.100000</td>\n",
       "      <td>13.641667</td>\n",
       "      <td>21.216667</td>\n",
       "      <td>27.950000</td>\n",
       "      <td>15.983334</td>\n",
       "      <td>15.058334</td>\n",
       "    </tr>\n",
       "    <tr>\n",
       "      <th>115</th>\n",
       "      <td>2016</td>\n",
       "      <td>18.816667</td>\n",
       "      <td>13.658334</td>\n",
       "      <td>20.550000</td>\n",
       "      <td>28.166667</td>\n",
       "      <td>15.775000</td>\n",
       "      <td>15.958334</td>\n",
       "    </tr>\n",
       "  </tbody>\n",
       "</table>\n",
       "<p>116 rows × 7 columns</p>\n",
       "</div>"
      ],
      "text/plain": [
       "     Years  Las Vegas    Beijing  Sao Paulo      Lagos     Madrid   Auckland\n",
       "0     1901  16.983334  11.691667  17.775000  26.858334  13.408333  14.041667\n",
       "1     1902  16.558334  12.650000  18.900000  27.125000  13.633333  13.541667\n",
       "2     1903  16.675000  12.058334  18.258334  27.266667  13.766667  14.116667\n",
       "3     1904  17.416667  11.983334  17.916667  26.966667  14.258333  13.741667\n",
       "4     1905  16.641667  11.716667  18.491667  27.158334  13.433333  14.150000\n",
       "..     ...        ...        ...        ...        ...        ...        ...\n",
       "111   2012  18.608334  12.375000  20.850000  27.533333  15.408334  14.850000\n",
       "112   2013  18.025000  12.641667  20.200000  27.800001  15.258334  15.416667\n",
       "113   2014  19.383334  13.600000  21.133334  27.900000  16.016667  15.150000\n",
       "114   2015  19.100000  13.641667  21.216667  27.950000  15.983334  15.058334\n",
       "115   2016  18.816667  13.658334  20.550000  28.166667  15.775000  15.958334\n",
       "\n",
       "[116 rows x 7 columns]"
      ]
     },
     "execution_count": 4,
     "metadata": {},
     "output_type": "execute_result"
    }
   ],
   "source": [
    "#Function calculates average temperature of the year\n",
    "def calcAvgAnnualTemp (df_temp):\n",
    "    tempTotal = 0\n",
    "    monthCount = 0\n",
    "    avgAnnualTemp = [] #Stores average yearly temperature in a list\n",
    "    \n",
    "    for i in range (len(df_temp)):\n",
    "        monthCount += 1\n",
    "        tempTotal = tempTotal + df_temp.iloc[i, 0] #Adds temperature of that month to tempTotal\n",
    "        if monthCount == 12:\n",
    "            avgAnnualTemp.append(tempTotal/12) #Adds average temperature of that year to list\n",
    "            tempTotal = 0\n",
    "            monthCount = 0\n",
    "            \n",
    "    return avgAnnualTemp; #Returns list with average yearly temperatures\n",
    "\n",
    "\n",
    "#Gathering temperature data for Las Vegas\n",
    "latLAS = 36.17191 #Coordinates for the city\n",
    "longLAS = -115.13997\n",
    "\n",
    "tempUrlLAS = 'https://climateknowledgeportal.worldbank.org/api/data/get-download-data/historical/tas/1901-2016/'+str(latLAS)+'$cckp$'+str(longLAS)+'/'+str(latLAS)+'$cckp$'+str(longLAS)\n",
    "dfTempLAS = pd.read_csv(tempUrlLAS)\n",
    "\n",
    "avgAnnualTempLAS = calcAvgAnnualTemp(dfTempLAS)\n",
    "\n",
    "#Gathering temperature data for Beijing\n",
    "latBEI = 39.90657 #Coordinates for the city\n",
    "longBEI = 116.38765\n",
    "\n",
    "tempUrlBEI = 'https://climateknowledgeportal.worldbank.org/api/data/get-download-data/historical/tas/1901-2016/'+str(latBEI)+'$cckp$'+str(longBEI)+'/'+str(latBEI)+'$cckp$'+str(longBEI)\n",
    "dfTempBEI = pd.read_csv(tempUrlBEI)\n",
    "\n",
    "avgAnnualTempBEI = calcAvgAnnualTemp(dfTempBEI)\n",
    "\n",
    "#Gathering temperature data for Sao Paulo\n",
    "latSAO = -23.56284 #Coordinates for the city\n",
    "longSAO = -46.65464\n",
    "\n",
    "tempUrlSAO = 'https://climateknowledgeportal.worldbank.org/api/data/get-download-data/historical/tas/1901-2016/'+str(latSAO)+'$cckp$'+str(longSAO)+'/'+str(latSAO)+'$cckp$'+str(longSAO)\n",
    "dfTempSAO = pd.read_csv(tempUrlSAO)\n",
    "\n",
    "avgAnnualTempSAO = calcAvgAnnualTemp(dfTempSAO)\n",
    "\n",
    "#Gathering temperature data for Lagos\n",
    "latLAG = 6.45471 #Coordinates for the city\n",
    "longLAG = 3.38876\n",
    "\n",
    "tempUrlLAG = 'https://climateknowledgeportal.worldbank.org/api/data/get-download-data/historical/tas/1901-2016/'+str(latLAG)+'$cckp$'+str(longLAG)+'/'+str(latLAG)+'$cckp$'+str(longLAG)\n",
    "dfTempLAG = pd.read_csv(tempUrlLAG)\n",
    "\n",
    "avgAnnualTempLAG = calcAvgAnnualTemp(dfTempLAG)\n",
    "\n",
    "#Gathering temperature data for Madrid\n",
    "latMAD = 40.42028 #Coordinates for the city\n",
    "longMAD = -3.70577\n",
    "\n",
    "tempUrlMAD = 'https://climateknowledgeportal.worldbank.org/api/data/get-download-data/historical/tas/1901-2016/'+str(latMAD)+'$cckp$'+str(longMAD)+'/'+str(latMAD)+'$cckp$'+str(longMAD)\n",
    "dfTempMAD = pd.read_csv(tempUrlMAD)\n",
    "\n",
    "avgAnnualTempMAD = calcAvgAnnualTemp(dfTempMAD)\n",
    "\n",
    "#Gathering temperature data for Auckland\n",
    "latAUC = -36.847317 #Coordinates for the city\n",
    "longAUC = 174.76279\n",
    "\n",
    "tempUrlAUC = 'https://climateknowledgeportal.worldbank.org/api/data/get-download-data/historical/tas/1901-2016/'+str(latAUC)+'$cckp$'+str(longAUC)+'/'+str(latAUC)+'$cckp$'+str(longAUC)\n",
    "dfTempAUC = pd.read_csv(tempUrlAUC)\n",
    "\n",
    "avgAnnualTempAUC = calcAvgAnnualTemp(dfTempAUC)\n",
    "\n",
    "#Stores years into a list\n",
    "years = []\n",
    "for i in range (1901, 2017, 1): #For loop to add each year\n",
    "    years.append(i)\n",
    "    \n",
    "#Displays temperature data from 1901 to 2016 in a table\n",
    "avgTempCities = {'Years': years,\n",
    "                 'Las Vegas': avgAnnualTempLAS,\n",
    "                 'Beijing' : avgAnnualTempBEI,\n",
    "                 'Sao Paulo' : avgAnnualTempSAO, \n",
    "                 'Lagos' : avgAnnualTempLAG, \n",
    "                 'Madrid' : avgAnnualTempMAD, \n",
    "                 'Auckland' : avgAnnualTempAUC}\n",
    "\n",
    "df_avgTempCities = pd.DataFrame(avgTempCities) #Creates panda\n",
    "df_avgTempCities"
   ]
  },
  {
   "cell_type": "code",
   "execution_count": 6,
   "metadata": {},
   "outputs": [
    {
     "data": {
      "application/vnd.plotly.v1+json": {
       "config": {
        "linkText": "Export to plot.ly",
        "plotlyServerURL": "https://plot.ly",
        "showLink": true
       },
       "data": [
        {
         "line": {
          "color": "rgba(255, 153, 51, 1.0)",
          "dash": "solid",
          "shape": "linear",
          "width": 1.3
         },
         "mode": "lines",
         "name": "Las Vegas",
         "text": "",
         "type": "scatter",
         "x": [
          0,
          1,
          2,
          3,
          4,
          5,
          6,
          7,
          8,
          9,
          10,
          11,
          12,
          13,
          14,
          15,
          16,
          17,
          18,
          19,
          20,
          21,
          22,
          23,
          24,
          25,
          26,
          27,
          28,
          29,
          30,
          31,
          32,
          33,
          34,
          35,
          36,
          37,
          38,
          39,
          40,
          41,
          42,
          43,
          44,
          45,
          46,
          47,
          48,
          49,
          50,
          51,
          52,
          53,
          54,
          55,
          56,
          57,
          58,
          59,
          60,
          61,
          62,
          63,
          64,
          65,
          66,
          67,
          68,
          69,
          70,
          71,
          72,
          73,
          74,
          75,
          76,
          77,
          78,
          79,
          80,
          81,
          82,
          83,
          84,
          85,
          86,
          87,
          88,
          89,
          90,
          91,
          92,
          93,
          94,
          95,
          96,
          97,
          98,
          99,
          100,
          101,
          102,
          103,
          104,
          105,
          106,
          107,
          108,
          109,
          110,
          111,
          112,
          113,
          114,
          115
         ],
         "y": [
          16.9833336671193,
          16.55833375453935,
          16.675000290075808,
          17.416666865348784,
          16.6416671276092,
          16.50000015894557,
          16.8000004291534,
          16.20833357175189,
          15.958333452542583,
          17.78333373864496,
          16.2333335876464,
          15.408333619435659,
          15.941666861375134,
          17.07500012715649,
          16.25000017881381,
          16.208333611488367,
          16.46666684746737,
          16.375000278154996,
          16.175000270207683,
          15.850000301996877,
          17.183333516120836,
          16.550000170866515,
          16.38333356380461,
          16.875000158945753,
          16.950000286102323,
          17.475000301996992,
          17.17500023047136,
          17.233333508173473,
          16.950000524520803,
          16.608333448568967,
          16.991666893164233,
          16.233333408832593,
          16.516667068004644,
          18.458333492279017,
          16.858333468437166,
          17.266666730244804,
          16.6833334844558,
          16.491666793823224,
          16.808333655198467,
          17.52500045299524,
          15.93333363533025,
          16.750000198682166,
          17.333333690961286,
          16.108333865801402,
          16.40833377838129,
          17.083333651224738,
          17.41666706403095,
          16.091666936874308,
          16.150000254313074,
          17.52500039339064,
          16.600000222523907,
          16.633333603540983,
          17.033333698908486,
          17.575000007947196,
          16.366666932900618,
          17.166667064030893,
          16.933333555857256,
          17.725000341733164,
          17.76666700839985,
          17.54166694482169,
          17.100000182787493,
          17.375000357627844,
          17.225000222524084,
          16.550000270207786,
          16.458333452542686,
          17.383333643277535,
          17.141667068004544,
          17.275000095367435,
          17.38333344459529,
          17.083333770434027,
          16.458333452542618,
          17.07500040531159,
          16.800000131130098,
          17.450000345707007,
          16.508333484331697,
          16.983333826064882,
          17.691667000452625,
          17.225000282128573,
          16.883333643277332,
          17.46666689713795,
          18.2750002543131,
          16.26666696866356,
          16.741667032241782,
          16.991666992505362,
          17.041666984558116,
          17.87500007947284,
          17.250000238418416,
          17.458333452542522,
          17.791667064030964,
          17.150000413258727,
          16.90833350022625,
          17.541666984557985,
          17.02500041325879,
          18.175000270207725,
          18.250000397364207,
          18.8750003576278,
          17.716666897137966,
          16.59166689713797,
          17.300000031789065,
          17.91666714350386,
          18.158333619435673,
          17.80000038941701,
          18.46666705608359,
          18.091667056083676,
          18.325000286102327,
          18.23333354790994,
          18.516666928927126,
          18.183333635330058,
          17.975000381469727,
          17.691666841506926,
          17.28333353996282,
          18.608333627382926,
          18.025000174840248,
          19.383333603540926,
          19.100000023841748,
          18.816666801770626
         ]
        },
        {
         "line": {
          "color": "rgba(55, 128, 191, 1.0)",
          "dash": "solid",
          "shape": "linear",
          "width": 1.3
         },
         "mode": "lines",
         "name": "Beijing",
         "text": "",
         "type": "scatter",
         "x": [
          0,
          1,
          2,
          3,
          4,
          5,
          6,
          7,
          8,
          9,
          10,
          11,
          12,
          13,
          14,
          15,
          16,
          17,
          18,
          19,
          20,
          21,
          22,
          23,
          24,
          25,
          26,
          27,
          28,
          29,
          30,
          31,
          32,
          33,
          34,
          35,
          36,
          37,
          38,
          39,
          40,
          41,
          42,
          43,
          44,
          45,
          46,
          47,
          48,
          49,
          50,
          51,
          52,
          53,
          54,
          55,
          56,
          57,
          58,
          59,
          60,
          61,
          62,
          63,
          64,
          65,
          66,
          67,
          68,
          69,
          70,
          71,
          72,
          73,
          74,
          75,
          76,
          77,
          78,
          79,
          80,
          81,
          82,
          83,
          84,
          85,
          86,
          87,
          88,
          89,
          90,
          91,
          92,
          93,
          94,
          95,
          96,
          97,
          98,
          99,
          100,
          101,
          102,
          103,
          104,
          105,
          106,
          107,
          108,
          109,
          110,
          111,
          112,
          113,
          114,
          115
         ],
         "y": [
          11.691667099793706,
          12.650000203400742,
          12.058333662648897,
          11.983333542942967,
          11.716666926940297,
          11.341666817665116,
          11.7250002821286,
          11.425000222399824,
          11.416666785875867,
          10.891666611035651,
          10.758333563804634,
          11.20000021656346,
          11.175000369548783,
          12.041666892667585,
          11.000000106791662,
          11.291666766007731,
          11.025000214576812,
          11.166666845480657,
          11.76666694382829,
          12.033333599567408,
          11.96666669845569,
          11.89166673024483,
          11.650000194708392,
          11.941667040189124,
          11.575000206629433,
          11.833333810170425,
          11.991666932900756,
          11.975000063578241,
          11.87500039736426,
          12.141667013367085,
          11.591666758060457,
          12.008333543936402,
          11.283333361148799,
          11.400000120202625,
          12.341666767994608,
          11.108333269755015,
          12.033333554863857,
          12.450000216563424,
          12.391666933894085,
          12.291666830579375,
          12.541667004426294,
          12.625000168879758,
          12.725000118215862,
          12.183333367109258,
          12.51666707793875,
          12.675000235438267,
          11.033333361148884,
          12.525000230098696,
          12.300000200668904,
          12.11666701237361,
          11.891666760047196,
          11.591666817665134,
          11.883333474397674,
          11.474999984105333,
          12.333333684131476,
          11.058333535989199,
          11.39166688919061,
          12.225000123183008,
          12.416666756073626,
          12.341666956742543,
          12.791666865348859,
          12.183333257834049,
          12.091666946808424,
          11.508333623409234,
          12.200000231464612,
          11.75833359360682,
          11.516666769981384,
          11.966666897138003,
          10.816666901111525,
          11.333333452542616,
          11.691666742165834,
          11.783333688974382,
          12.11666686336194,
          11.675000300009957,
          12.69166692097987,
          11.40833345552278,
          12.183333414917243,
          12.300000071525625,
          12.066666896144623,
          11.77500033378609,
          12.450000380476341,
          13.025000219543701,
          13.083333355064104,
          11.97500008344656,
          11.733333587646419,
          12.308333575725657,
          12.53333348780857,
          12.750000232209679,
          13.041666902601692,
          12.825000284239598,
          12.466666954879903,
          12.683333563307828,
          12.608333329359615,
          13.4666667381922,
          13.066666911045713,
          12.558333550890204,
          13.241666848460815,
          13.533333490292163,
          13.466666852434445,
          12.841666867335668,
          13.050000300010003,
          13.358333468437221,
          12.75000000186253,
          13.458333658675429,
          13.066666861375113,
          13.48333349078888,
          13.875000248352613,
          13.250000270083497,
          13.241666724284542,
          12.641666705409621,
          12.758333591744304,
          12.37500021855036,
          12.641666690508458,
          13.600000346700318,
          13.641667048136318,
          13.658333574732104
         ]
        },
        {
         "line": {
          "color": "rgba(50, 171, 96, 1.0)",
          "dash": "solid",
          "shape": "linear",
          "width": 1.3
         },
         "mode": "lines",
         "name": "Sao Paulo",
         "text": "",
         "type": "scatter",
         "x": [
          0,
          1,
          2,
          3,
          4,
          5,
          6,
          7,
          8,
          9,
          10,
          11,
          12,
          13,
          14,
          15,
          16,
          17,
          18,
          19,
          20,
          21,
          22,
          23,
          24,
          25,
          26,
          27,
          28,
          29,
          30,
          31,
          32,
          33,
          34,
          35,
          36,
          37,
          38,
          39,
          40,
          41,
          42,
          43,
          44,
          45,
          46,
          47,
          48,
          49,
          50,
          51,
          52,
          53,
          54,
          55,
          56,
          57,
          58,
          59,
          60,
          61,
          62,
          63,
          64,
          65,
          66,
          67,
          68,
          69,
          70,
          71,
          72,
          73,
          74,
          75,
          76,
          77,
          78,
          79,
          80,
          81,
          82,
          83,
          84,
          85,
          86,
          87,
          88,
          89,
          90,
          91,
          92,
          93,
          94,
          95,
          96,
          97,
          98,
          99,
          100,
          101,
          102,
          103,
          104,
          105,
          106,
          107,
          108,
          109,
          110,
          111,
          112,
          113,
          114,
          115
         ],
         "y": [
          17.775000333786,
          18.900000174840166,
          18.258333762486753,
          17.91666682561233,
          18.49166703224167,
          18.458333810170416,
          18.00833368301375,
          18.066667000452497,
          17.941667000452668,
          17.950000445047916,
          17.891666730244918,
          18.258333762486835,
          18.48333342870075,
          19.241667032241754,
          18.941666920979753,
          18.25833360354092,
          17.11666703224175,
          17.741666952768917,
          18.341666857401503,
          18.275000413258834,
          18.108333667119165,
          18.550000270207754,
          18.475000301996836,
          17.983333826065085,
          18.425000349680417,
          18.525000413258667,
          18.241666714350334,
          18.941667318344084,
          18.46666693687433,
          18.85833374659217,
          18.416666825612417,
          19.150000254313,
          18.108333667119165,
          18.85000014305108,
          18.350000222524084,
          18.608333587646417,
          17.991667032241832,
          18.37500031789142,
          18.46666693687425,
          19.058333555857168,
          19.175000508626166,
          18.716666857401588,
          18.68333355585725,
          19.23333350817342,
          18.950000445048,
          18.95000012715641,
          18.325000206629415,
          18.650000333785915,
          18.508333603540834,
          18.9583337306975,
          18.166666825612335,
          18.991666793823168,
          19.000000715255585,
          19.375000476837002,
          18.800000031789082,
          18.466666777928584,
          18.950000127156496,
          19.675000349680413,
          19.875000556310003,
          19.050000349680417,
          19.95000028610217,
          18.466667016347085,
          19.73333390553775,
          18.6833333969115,
          19.433333794275836,
          19.558333873748584,
          19.608333746592084,
          18.5833337306975,
          19.38333352406808,
          19.375000556309917,
          19.050000190734746,
          19.475000143050913,
          19.716666857401332,
          19.191666920979753,
          19.408333857854085,
          19.000000397364165,
          20.033333619435414,
          19.44166668256125,
          18.85833374659217,
          19.6416668891905,
          19.433333476384416,
          19.408333301543916,
          19.725000381469584,
          20.025000492731582,
          19.625000476837084,
          20.016666809717666,
          19.716667016347085,
          19.433333635330253,
          19.283333381016835,
          19.875000556309917,
          19.841667016347166,
          19.825000445047916,
          19.916667143503584,
          19.975000540415166,
          20.366667270660418,
          19.833333492279,
          20.266667048136334,
          20.258333683014005,
          19.658333937326834,
          19.908333698908333,
          20.700000286102338,
          21.183333555857164,
          20.458333810170334,
          19.891667048136334,
          20.53333377838125,
          20.466667175292923,
          20.72500054041542,
          20.025000413258752,
          20.550000349680584,
          20.4750003814695,
          20.125000476837002,
          20.8500003814695,
          20.200000445048,
          21.133333841959416,
          21.216667175292834,
          20.550000349680502
         ]
        },
        {
         "line": {
          "color": "rgba(128, 0, 128, 1.0)",
          "dash": "solid",
          "shape": "linear",
          "width": 1.3
         },
         "mode": "lines",
         "name": "Lagos",
         "text": "",
         "type": "scatter",
         "x": [
          0,
          1,
          2,
          3,
          4,
          5,
          6,
          7,
          8,
          9,
          10,
          11,
          12,
          13,
          14,
          15,
          16,
          17,
          18,
          19,
          20,
          21,
          22,
          23,
          24,
          25,
          26,
          27,
          28,
          29,
          30,
          31,
          32,
          33,
          34,
          35,
          36,
          37,
          38,
          39,
          40,
          41,
          42,
          43,
          44,
          45,
          46,
          47,
          48,
          49,
          50,
          51,
          52,
          53,
          54,
          55,
          56,
          57,
          58,
          59,
          60,
          61,
          62,
          63,
          64,
          65,
          66,
          67,
          68,
          69,
          70,
          71,
          72,
          73,
          74,
          75,
          76,
          77,
          78,
          79,
          80,
          81,
          82,
          83,
          84,
          85,
          86,
          87,
          88,
          89,
          90,
          91,
          92,
          93,
          94,
          95,
          96,
          97,
          98,
          99,
          100,
          101,
          102,
          103,
          104,
          105,
          106,
          107,
          108,
          109,
          110,
          111,
          112,
          113,
          114,
          115
         ],
         "y": [
          26.858333746592,
          27.125000476837002,
          27.26666704813633,
          26.966667175292667,
          27.158333778381166,
          27.75000063578267,
          27.23333358764633,
          27.12500063578275,
          27.233333587646502,
          27.208333651224667,
          27.30833387374867,
          27.450000286102167,
          27.53333393732692,
          28.10833358764633,
          27.241666793823082,
          27.241666793823082,
          27.241666793823082,
          27.241666793823082,
          27.241666793823082,
          27.300000190734664,
          27.241666793823082,
          27.258333524067996,
          27.025000413258837,
          27.108333746592084,
          26.525000254312914,
          27.325000127156414,
          26.700000445047834,
          26.583333492278914,
          26.325000603993587,
          27.658333937327,
          27.825000286102167,
          27.841667175292923,
          27.700000286102252,
          27.683333714802917,
          27.74999999999983,
          27.033333937327004,
          28.416666825612165,
          28.741666952768835,
          27.958333651224752,
          27.333333492278914,
          28.091666857401417,
          27.741666952768835,
          27.308333555857164,
          27.59166701634717,
          27.25833352406808,
          27.10833358764633,
          27.516666730244832,
          27.000000476837084,
          27.633333841959583,
          27.066666920979838,
          27.683333555857164,
          27.325000286102167,
          27.10833358764633,
          26.775000254313,
          26.800000190734664,
          26.791666984558002,
          27.00833352406791,
          27.150000572204416,
          27.200000286102167,
          27.116666793823168,
          27.025000254313085,
          26.96666669845575,
          27.375000317891335,
          26.92500050862608,
          27.041666984557917,
          27.358333746592,
          26.975000381469584,
          27.233333905537833,
          27.575000445048005,
          27.3250006039935,
          26.50833368301375,
          26.841667016347085,
          27.25833368301375,
          26.500000635782666,
          26.316667079925335,
          26.325000286102167,
          27.125000476837002,
          26.716667016347085,
          27.050000190734664,
          27.000000476837002,
          27.641667048136252,
          27.46666701634717,
          27.841667016347255,
          27.73333374659217,
          27.550000349680502,
          27.350000540415422,
          28.333333651224578,
          27.775000254313085,
          27.47500006357808,
          27.85833358764633,
          27.016666889190585,
          26.991666952768835,
          27.091666698455583,
          27.0333336194355,
          27.225000222524002,
          27.208333969116,
          27.1333338419595,
          27.800000667571922,
          27.20000028610225,
          27.55000050862617,
          27.650000413258752,
          27.583333810170334,
          27.766667048136252,
          27.516666730244747,
          27.758333841959587,
          27.8083338737485,
          27.625000476837084,
          27.591667175292745,
          27.775000413258834,
          28.141667048136252,
          27.666667143503755,
          27.533333460489747,
          27.80000050862625,
          27.90000041325858,
          27.950000286102252,
          28.166667302449415
         ]
        },
        {
         "line": {
          "color": "rgba(219, 64, 82, 1.0)",
          "dash": "solid",
          "shape": "linear",
          "width": 1.3
         },
         "mode": "lines",
         "name": "Madrid",
         "text": "",
         "type": "scatter",
         "x": [
          0,
          1,
          2,
          3,
          4,
          5,
          6,
          7,
          8,
          9,
          10,
          11,
          12,
          13,
          14,
          15,
          16,
          17,
          18,
          19,
          20,
          21,
          22,
          23,
          24,
          25,
          26,
          27,
          28,
          29,
          30,
          31,
          32,
          33,
          34,
          35,
          36,
          37,
          38,
          39,
          40,
          41,
          42,
          43,
          44,
          45,
          46,
          47,
          48,
          49,
          50,
          51,
          52,
          53,
          54,
          55,
          56,
          57,
          58,
          59,
          60,
          61,
          62,
          63,
          64,
          65,
          66,
          67,
          68,
          69,
          70,
          71,
          72,
          73,
          74,
          75,
          76,
          77,
          78,
          79,
          80,
          81,
          82,
          83,
          84,
          85,
          86,
          87,
          88,
          89,
          90,
          91,
          92,
          93,
          94,
          95,
          96,
          97,
          98,
          99,
          100,
          101,
          102,
          103,
          104,
          105,
          106,
          107,
          108,
          109,
          110,
          111,
          112,
          113,
          114,
          115
         ],
         "y": [
          13.40833330154413,
          13.633333484331793,
          13.766666849454282,
          14.25833340485884,
          13.433333436648107,
          13.766666690508508,
          13.675000230471353,
          14.02500013510379,
          13.525000174840274,
          13.466666976610925,
          13.600000222523933,
          13.52500041325878,
          13.850000262260417,
          13.625000298023197,
          13.658333539962783,
          13.766666889190558,
          13.350000301996792,
          13.650000294049548,
          13.533333659172108,
          13.766666928927151,
          14.07500024636579,
          13.691667079925573,
          13.85000026226046,
          14.133333683013824,
          13.141666849454182,
          14.683333516121069,
          14.1833336353302,
          14.150000254313147,
          14.241666932900648,
          14.408333579699125,
          14.083333412806184,
          13.658333420753442,
          14.150000294049583,
          14.04166690508525,
          13.733333587646475,
          13.591666936874399,
          14.483333547910048,
          14.041666944821692,
          13.666666944821593,
          13.900000135103815,
          13.550000071525583,
          14.150000294049674,
          14.575000127156573,
          13.850000381469641,
          14.966666618982908,
          13.983333468437225,
          14.766667087872841,
          14.925000111262065,
          14.92500030994414,
          14.583333532015535,
          13.82500044504799,
          14.283333758513166,
          14.408333619435524,
          14.025000294049653,
          15.116666952769,
          13.300000150998324,
          14.041666924953459,
          14.566666960716192,
          14.5166669686635,
          14.366666992505445,
          15.225000103314708,
          14.450000365575116,
          14.016666849454202,
          14.72500014305104,
          14.25833348433185,
          14.6583335399627,
          14.375000158945701,
          14.675000270207766,
          13.8250000476837,
          14.458333452542675,
          13.816666920979808,
          13.608333468437209,
          14.266667048136407,
          14.083333770434004,
          14.133333603541049,
          14.158333619435547,
          14.258333722750399,
          14.47500018278751,
          14.616666714350366,
          14.366666833559641,
          15.050000270207754,
          15.025000294049612,
          14.983333746592166,
          14.166666785875849,
          14.983333508173532,
          14.80000038941695,
          15.233333468437202,
          14.89166688919065,
          15.783333539962717,
          15.566667040189033,
          14.941667000452698,
          14.841666936874484,
          14.300000111262024,
          15.358333547910137,
          15.841666897137932,
          14.975000580151935,
          15.808333396911655,
          15.425000111261992,
          15.150000254313158,
          15.208333690961226,
          15.32500028610231,
          15.350000222523974,
          15.775000135103875,
          15.316666841506985,
          15.200000325838673,
          15.883333524068227,
          15.066666920979825,
          15.033333500226341,
          15.858333547910116,
          15.016666889190732,
          15.841666936874468,
          15.408333659172193,
          15.25833360354106,
          16.01666680971773,
          15.983333627382905,
          15.775000294049448
         ]
        },
        {
         "line": {
          "color": "rgba(0, 128, 128, 1.0)",
          "dash": "solid",
          "shape": "linear",
          "width": 1.3
         },
         "mode": "lines",
         "name": "Auckland",
         "text": "",
         "type": "scatter",
         "x": [
          0,
          1,
          2,
          3,
          4,
          5,
          6,
          7,
          8,
          9,
          10,
          11,
          12,
          13,
          14,
          15,
          16,
          17,
          18,
          19,
          20,
          21,
          22,
          23,
          24,
          25,
          26,
          27,
          28,
          29,
          30,
          31,
          32,
          33,
          34,
          35,
          36,
          37,
          38,
          39,
          40,
          41,
          42,
          43,
          44,
          45,
          46,
          47,
          48,
          49,
          50,
          51,
          52,
          53,
          54,
          55,
          56,
          57,
          58,
          59,
          60,
          61,
          62,
          63,
          64,
          65,
          66,
          67,
          68,
          69,
          70,
          71,
          72,
          73,
          74,
          75,
          76,
          77,
          78,
          79,
          80,
          81,
          82,
          83,
          84,
          85,
          86,
          87,
          88,
          89,
          90,
          91,
          92,
          93,
          94,
          95,
          96,
          97,
          98,
          99,
          100,
          101,
          102,
          103,
          104,
          105,
          106,
          107,
          108,
          109,
          110,
          111,
          112,
          113,
          114,
          115
         ],
         "y": [
          14.041666666666657,
          13.541666825612332,
          14.116666952768966,
          13.741666793823333,
          14.15000025431325,
          13.891666889190752,
          14.941666841507,
          14.591667095820162,
          15.016667048136418,
          15.075000286102336,
          14.700000206629502,
          13.991666793823251,
          14.258333524068165,
          14.191666762034075,
          14.916666825612417,
          15.491667111714749,
          14.916666905085252,
          14.24166687329606,
          13.80833363533025,
          14.408333619435666,
          14.641666889190668,
          14.583333492279081,
          14.083333492279065,
          14.908333619435718,
          13.941666920979918,
          14.01666680971775,
          14.033333539962833,
          14.983333508173665,
          14.400000492731843,
          13.725000301996909,
          13.900000333786084,
          14.058333476384492,
          14.541666984558082,
          14.433333555857468,
          14.800000270207669,
          14.19166715939839,
          14.025000174840386,
          15.358333905537803,
          14.133333603541159,
          14.00000015894581,
          14.133333762486764,
          14.575000524520837,
          14.400000174840331,
          14.383333603541084,
          14.091666857401565,
          14.625000079472917,
          14.391666730244998,
          14.933333555857416,
          14.541667222976834,
          15.000000238418584,
          14.358333587646499,
          14.566666920979808,
          14.733333508173667,
          14.933333714803084,
          15.383333683013966,
          15.45000012715658,
          14.90000009536739,
          15.100000301996914,
          14.691666841506917,
          14.733333587646499,
          14.750000238418666,
          15.45000028610233,
          14.658333619435666,
          14.61666703224183,
          14.283333539962825,
          14.583333571751917,
          14.8583335876465,
          14.725000143051167,
          14.525000333786094,
          15.441667000452748,
          15.591667016347417,
          14.8416668574015,
          15.375000556310084,
          15.550000270207748,
          15.266666730244916,
          14.383333762486751,
          14.266666809717917,
          15.041667064030916,
          15.241666873296083,
          14.80000019073475,
          15.466666936874416,
          14.575000365575136,
          14.700000286102302,
          15.150000174840335,
          15.175000349680666,
          15.083333651224885,
          15.125000317891498,
          15.60833366711933,
          15.475000301996916,
          15.550000270207834,
          14.650000333786082,
          14.116666952768997,
          14.183333555857416,
          14.675000270207832,
          15.366666873296168,
          15.108333667119334,
          14.783333460489999,
          16.091666857401503,
          15.6833334763845,
          15.308333714803084,
          15.4416670799255,
          15.075000127156583,
          15.216666936874502,
          14.533333698908583,
          15.525000095367503,
          14.875000079472832,
          15.291666825612417,
          15.275000333786165,
          14.87500023841867,
          15.558333635330252,
          15.416666905085416,
          14.850000222524,
          15.416666905085165,
          15.150000333786087,
          15.058333635330252,
          15.958333651224665
         ]
        }
       ],
       "layout": {
        "legend": {
         "bgcolor": "#F5F6F9",
         "font": {
          "color": "#4D5663"
         }
        },
        "paper_bgcolor": "#F5F6F9",
        "plot_bgcolor": "#F5F6F9",
        "template": {
         "data": {
          "bar": [
           {
            "error_x": {
             "color": "#2a3f5f"
            },
            "error_y": {
             "color": "#2a3f5f"
            },
            "marker": {
             "line": {
              "color": "#E5ECF6",
              "width": 0.5
             }
            },
            "type": "bar"
           }
          ],
          "barpolar": [
           {
            "marker": {
             "line": {
              "color": "#E5ECF6",
              "width": 0.5
             }
            },
            "type": "barpolar"
           }
          ],
          "carpet": [
           {
            "aaxis": {
             "endlinecolor": "#2a3f5f",
             "gridcolor": "white",
             "linecolor": "white",
             "minorgridcolor": "white",
             "startlinecolor": "#2a3f5f"
            },
            "baxis": {
             "endlinecolor": "#2a3f5f",
             "gridcolor": "white",
             "linecolor": "white",
             "minorgridcolor": "white",
             "startlinecolor": "#2a3f5f"
            },
            "type": "carpet"
           }
          ],
          "choropleth": [
           {
            "colorbar": {
             "outlinewidth": 0,
             "ticks": ""
            },
            "type": "choropleth"
           }
          ],
          "contour": [
           {
            "colorbar": {
             "outlinewidth": 0,
             "ticks": ""
            },
            "colorscale": [
             [
              0,
              "#0d0887"
             ],
             [
              0.1111111111111111,
              "#46039f"
             ],
             [
              0.2222222222222222,
              "#7201a8"
             ],
             [
              0.3333333333333333,
              "#9c179e"
             ],
             [
              0.4444444444444444,
              "#bd3786"
             ],
             [
              0.5555555555555556,
              "#d8576b"
             ],
             [
              0.6666666666666666,
              "#ed7953"
             ],
             [
              0.7777777777777778,
              "#fb9f3a"
             ],
             [
              0.8888888888888888,
              "#fdca26"
             ],
             [
              1,
              "#f0f921"
             ]
            ],
            "type": "contour"
           }
          ],
          "contourcarpet": [
           {
            "colorbar": {
             "outlinewidth": 0,
             "ticks": ""
            },
            "type": "contourcarpet"
           }
          ],
          "heatmap": [
           {
            "colorbar": {
             "outlinewidth": 0,
             "ticks": ""
            },
            "colorscale": [
             [
              0,
              "#0d0887"
             ],
             [
              0.1111111111111111,
              "#46039f"
             ],
             [
              0.2222222222222222,
              "#7201a8"
             ],
             [
              0.3333333333333333,
              "#9c179e"
             ],
             [
              0.4444444444444444,
              "#bd3786"
             ],
             [
              0.5555555555555556,
              "#d8576b"
             ],
             [
              0.6666666666666666,
              "#ed7953"
             ],
             [
              0.7777777777777778,
              "#fb9f3a"
             ],
             [
              0.8888888888888888,
              "#fdca26"
             ],
             [
              1,
              "#f0f921"
             ]
            ],
            "type": "heatmap"
           }
          ],
          "heatmapgl": [
           {
            "colorbar": {
             "outlinewidth": 0,
             "ticks": ""
            },
            "colorscale": [
             [
              0,
              "#0d0887"
             ],
             [
              0.1111111111111111,
              "#46039f"
             ],
             [
              0.2222222222222222,
              "#7201a8"
             ],
             [
              0.3333333333333333,
              "#9c179e"
             ],
             [
              0.4444444444444444,
              "#bd3786"
             ],
             [
              0.5555555555555556,
              "#d8576b"
             ],
             [
              0.6666666666666666,
              "#ed7953"
             ],
             [
              0.7777777777777778,
              "#fb9f3a"
             ],
             [
              0.8888888888888888,
              "#fdca26"
             ],
             [
              1,
              "#f0f921"
             ]
            ],
            "type": "heatmapgl"
           }
          ],
          "histogram": [
           {
            "marker": {
             "colorbar": {
              "outlinewidth": 0,
              "ticks": ""
             }
            },
            "type": "histogram"
           }
          ],
          "histogram2d": [
           {
            "colorbar": {
             "outlinewidth": 0,
             "ticks": ""
            },
            "colorscale": [
             [
              0,
              "#0d0887"
             ],
             [
              0.1111111111111111,
              "#46039f"
             ],
             [
              0.2222222222222222,
              "#7201a8"
             ],
             [
              0.3333333333333333,
              "#9c179e"
             ],
             [
              0.4444444444444444,
              "#bd3786"
             ],
             [
              0.5555555555555556,
              "#d8576b"
             ],
             [
              0.6666666666666666,
              "#ed7953"
             ],
             [
              0.7777777777777778,
              "#fb9f3a"
             ],
             [
              0.8888888888888888,
              "#fdca26"
             ],
             [
              1,
              "#f0f921"
             ]
            ],
            "type": "histogram2d"
           }
          ],
          "histogram2dcontour": [
           {
            "colorbar": {
             "outlinewidth": 0,
             "ticks": ""
            },
            "colorscale": [
             [
              0,
              "#0d0887"
             ],
             [
              0.1111111111111111,
              "#46039f"
             ],
             [
              0.2222222222222222,
              "#7201a8"
             ],
             [
              0.3333333333333333,
              "#9c179e"
             ],
             [
              0.4444444444444444,
              "#bd3786"
             ],
             [
              0.5555555555555556,
              "#d8576b"
             ],
             [
              0.6666666666666666,
              "#ed7953"
             ],
             [
              0.7777777777777778,
              "#fb9f3a"
             ],
             [
              0.8888888888888888,
              "#fdca26"
             ],
             [
              1,
              "#f0f921"
             ]
            ],
            "type": "histogram2dcontour"
           }
          ],
          "mesh3d": [
           {
            "colorbar": {
             "outlinewidth": 0,
             "ticks": ""
            },
            "type": "mesh3d"
           }
          ],
          "parcoords": [
           {
            "line": {
             "colorbar": {
              "outlinewidth": 0,
              "ticks": ""
             }
            },
            "type": "parcoords"
           }
          ],
          "pie": [
           {
            "automargin": true,
            "type": "pie"
           }
          ],
          "scatter": [
           {
            "marker": {
             "colorbar": {
              "outlinewidth": 0,
              "ticks": ""
             }
            },
            "type": "scatter"
           }
          ],
          "scatter3d": [
           {
            "line": {
             "colorbar": {
              "outlinewidth": 0,
              "ticks": ""
             }
            },
            "marker": {
             "colorbar": {
              "outlinewidth": 0,
              "ticks": ""
             }
            },
            "type": "scatter3d"
           }
          ],
          "scattercarpet": [
           {
            "marker": {
             "colorbar": {
              "outlinewidth": 0,
              "ticks": ""
             }
            },
            "type": "scattercarpet"
           }
          ],
          "scattergeo": [
           {
            "marker": {
             "colorbar": {
              "outlinewidth": 0,
              "ticks": ""
             }
            },
            "type": "scattergeo"
           }
          ],
          "scattergl": [
           {
            "marker": {
             "colorbar": {
              "outlinewidth": 0,
              "ticks": ""
             }
            },
            "type": "scattergl"
           }
          ],
          "scattermapbox": [
           {
            "marker": {
             "colorbar": {
              "outlinewidth": 0,
              "ticks": ""
             }
            },
            "type": "scattermapbox"
           }
          ],
          "scatterpolar": [
           {
            "marker": {
             "colorbar": {
              "outlinewidth": 0,
              "ticks": ""
             }
            },
            "type": "scatterpolar"
           }
          ],
          "scatterpolargl": [
           {
            "marker": {
             "colorbar": {
              "outlinewidth": 0,
              "ticks": ""
             }
            },
            "type": "scatterpolargl"
           }
          ],
          "scatterternary": [
           {
            "marker": {
             "colorbar": {
              "outlinewidth": 0,
              "ticks": ""
             }
            },
            "type": "scatterternary"
           }
          ],
          "surface": [
           {
            "colorbar": {
             "outlinewidth": 0,
             "ticks": ""
            },
            "colorscale": [
             [
              0,
              "#0d0887"
             ],
             [
              0.1111111111111111,
              "#46039f"
             ],
             [
              0.2222222222222222,
              "#7201a8"
             ],
             [
              0.3333333333333333,
              "#9c179e"
             ],
             [
              0.4444444444444444,
              "#bd3786"
             ],
             [
              0.5555555555555556,
              "#d8576b"
             ],
             [
              0.6666666666666666,
              "#ed7953"
             ],
             [
              0.7777777777777778,
              "#fb9f3a"
             ],
             [
              0.8888888888888888,
              "#fdca26"
             ],
             [
              1,
              "#f0f921"
             ]
            ],
            "type": "surface"
           }
          ],
          "table": [
           {
            "cells": {
             "fill": {
              "color": "#EBF0F8"
             },
             "line": {
              "color": "white"
             }
            },
            "header": {
             "fill": {
              "color": "#C8D4E3"
             },
             "line": {
              "color": "white"
             }
            },
            "type": "table"
           }
          ]
         },
         "layout": {
          "annotationdefaults": {
           "arrowcolor": "#2a3f5f",
           "arrowhead": 0,
           "arrowwidth": 1
          },
          "coloraxis": {
           "colorbar": {
            "outlinewidth": 0,
            "ticks": ""
           }
          },
          "colorscale": {
           "diverging": [
            [
             0,
             "#8e0152"
            ],
            [
             0.1,
             "#c51b7d"
            ],
            [
             0.2,
             "#de77ae"
            ],
            [
             0.3,
             "#f1b6da"
            ],
            [
             0.4,
             "#fde0ef"
            ],
            [
             0.5,
             "#f7f7f7"
            ],
            [
             0.6,
             "#e6f5d0"
            ],
            [
             0.7,
             "#b8e186"
            ],
            [
             0.8,
             "#7fbc41"
            ],
            [
             0.9,
             "#4d9221"
            ],
            [
             1,
             "#276419"
            ]
           ],
           "sequential": [
            [
             0,
             "#0d0887"
            ],
            [
             0.1111111111111111,
             "#46039f"
            ],
            [
             0.2222222222222222,
             "#7201a8"
            ],
            [
             0.3333333333333333,
             "#9c179e"
            ],
            [
             0.4444444444444444,
             "#bd3786"
            ],
            [
             0.5555555555555556,
             "#d8576b"
            ],
            [
             0.6666666666666666,
             "#ed7953"
            ],
            [
             0.7777777777777778,
             "#fb9f3a"
            ],
            [
             0.8888888888888888,
             "#fdca26"
            ],
            [
             1,
             "#f0f921"
            ]
           ],
           "sequentialminus": [
            [
             0,
             "#0d0887"
            ],
            [
             0.1111111111111111,
             "#46039f"
            ],
            [
             0.2222222222222222,
             "#7201a8"
            ],
            [
             0.3333333333333333,
             "#9c179e"
            ],
            [
             0.4444444444444444,
             "#bd3786"
            ],
            [
             0.5555555555555556,
             "#d8576b"
            ],
            [
             0.6666666666666666,
             "#ed7953"
            ],
            [
             0.7777777777777778,
             "#fb9f3a"
            ],
            [
             0.8888888888888888,
             "#fdca26"
            ],
            [
             1,
             "#f0f921"
            ]
           ]
          },
          "colorway": [
           "#636efa",
           "#EF553B",
           "#00cc96",
           "#ab63fa",
           "#FFA15A",
           "#19d3f3",
           "#FF6692",
           "#B6E880",
           "#FF97FF",
           "#FECB52"
          ],
          "font": {
           "color": "#2a3f5f"
          },
          "geo": {
           "bgcolor": "white",
           "lakecolor": "white",
           "landcolor": "#E5ECF6",
           "showlakes": true,
           "showland": true,
           "subunitcolor": "white"
          },
          "hoverlabel": {
           "align": "left"
          },
          "hovermode": "closest",
          "mapbox": {
           "style": "light"
          },
          "paper_bgcolor": "white",
          "plot_bgcolor": "#E5ECF6",
          "polar": {
           "angularaxis": {
            "gridcolor": "white",
            "linecolor": "white",
            "ticks": ""
           },
           "bgcolor": "#E5ECF6",
           "radialaxis": {
            "gridcolor": "white",
            "linecolor": "white",
            "ticks": ""
           }
          },
          "scene": {
           "xaxis": {
            "backgroundcolor": "#E5ECF6",
            "gridcolor": "white",
            "gridwidth": 2,
            "linecolor": "white",
            "showbackground": true,
            "ticks": "",
            "zerolinecolor": "white"
           },
           "yaxis": {
            "backgroundcolor": "#E5ECF6",
            "gridcolor": "white",
            "gridwidth": 2,
            "linecolor": "white",
            "showbackground": true,
            "ticks": "",
            "zerolinecolor": "white"
           },
           "zaxis": {
            "backgroundcolor": "#E5ECF6",
            "gridcolor": "white",
            "gridwidth": 2,
            "linecolor": "white",
            "showbackground": true,
            "ticks": "",
            "zerolinecolor": "white"
           }
          },
          "shapedefaults": {
           "line": {
            "color": "#2a3f5f"
           }
          },
          "ternary": {
           "aaxis": {
            "gridcolor": "white",
            "linecolor": "white",
            "ticks": ""
           },
           "baxis": {
            "gridcolor": "white",
            "linecolor": "white",
            "ticks": ""
           },
           "bgcolor": "#E5ECF6",
           "caxis": {
            "gridcolor": "white",
            "linecolor": "white",
            "ticks": ""
           }
          },
          "title": {
           "x": 0.05
          },
          "xaxis": {
           "automargin": true,
           "gridcolor": "white",
           "linecolor": "white",
           "ticks": "",
           "title": {
            "standoff": 15
           },
           "zerolinecolor": "white",
           "zerolinewidth": 2
          },
          "yaxis": {
           "automargin": true,
           "gridcolor": "white",
           "linecolor": "white",
           "ticks": "",
           "title": {
            "standoff": 15
           },
           "zerolinecolor": "white",
           "zerolinewidth": 2
          }
         }
        },
        "title": {
         "font": {
          "color": "#4D5663"
         },
         "text": "Average Annual Temperature From 1901-2016 of 6 Major Cities"
        },
        "xaxis": {
         "gridcolor": "#E1E5ED",
         "showgrid": true,
         "tickfont": {
          "color": "#4D5663"
         },
         "title": {
          "font": {
           "color": "#4D5663"
          },
          "text": "Number of Years After 1901"
         },
         "zerolinecolor": "#E1E5ED"
        },
        "yaxis": {
         "gridcolor": "#E1E5ED",
         "showgrid": true,
         "tickfont": {
          "color": "#4D5663"
         },
         "title": {
          "font": {
           "color": "#4D5663"
          },
          "text": "Temperature (°C)"
         },
         "zerolinecolor": "#E1E5ED"
        }
       }
      },
      "text/html": [
       "<div>\n",
       "        \n",
       "        \n",
       "            <div id=\"cf80988f-c057-46d5-b6e6-a06f49f8be8c\" class=\"plotly-graph-div\" style=\"height:525px; width:100%;\"></div>\n",
       "            <script type=\"text/javascript\">\n",
       "                require([\"plotly\"], function(Plotly) {\n",
       "                    window.PLOTLYENV=window.PLOTLYENV || {};\n",
       "                    window.PLOTLYENV.BASE_URL='https://plot.ly';\n",
       "                    \n",
       "                if (document.getElementById(\"cf80988f-c057-46d5-b6e6-a06f49f8be8c\")) {\n",
       "                    Plotly.newPlot(\n",
       "                        'cf80988f-c057-46d5-b6e6-a06f49f8be8c',\n",
       "                        [{\"line\": {\"color\": \"rgba(255, 153, 51, 1.0)\", \"dash\": \"solid\", \"shape\": \"linear\", \"width\": 1.3}, \"mode\": \"lines\", \"name\": \"Las Vegas\", \"text\": \"\", \"type\": \"scatter\", \"x\": [0, 1, 2, 3, 4, 5, 6, 7, 8, 9, 10, 11, 12, 13, 14, 15, 16, 17, 18, 19, 20, 21, 22, 23, 24, 25, 26, 27, 28, 29, 30, 31, 32, 33, 34, 35, 36, 37, 38, 39, 40, 41, 42, 43, 44, 45, 46, 47, 48, 49, 50, 51, 52, 53, 54, 55, 56, 57, 58, 59, 60, 61, 62, 63, 64, 65, 66, 67, 68, 69, 70, 71, 72, 73, 74, 75, 76, 77, 78, 79, 80, 81, 82, 83, 84, 85, 86, 87, 88, 89, 90, 91, 92, 93, 94, 95, 96, 97, 98, 99, 100, 101, 102, 103, 104, 105, 106, 107, 108, 109, 110, 111, 112, 113, 114, 115], \"y\": [16.9833336671193, 16.55833375453935, 16.675000290075808, 17.416666865348784, 16.6416671276092, 16.50000015894557, 16.8000004291534, 16.20833357175189, 15.958333452542583, 17.78333373864496, 16.2333335876464, 15.408333619435659, 15.941666861375134, 17.07500012715649, 16.25000017881381, 16.208333611488367, 16.46666684746737, 16.375000278154996, 16.175000270207683, 15.850000301996877, 17.183333516120836, 16.550000170866515, 16.38333356380461, 16.875000158945753, 16.950000286102323, 17.475000301996992, 17.17500023047136, 17.233333508173473, 16.950000524520803, 16.608333448568967, 16.991666893164233, 16.233333408832593, 16.516667068004644, 18.458333492279017, 16.858333468437166, 17.266666730244804, 16.6833334844558, 16.491666793823224, 16.808333655198467, 17.52500045299524, 15.93333363533025, 16.750000198682166, 17.333333690961286, 16.108333865801402, 16.40833377838129, 17.083333651224738, 17.41666706403095, 16.091666936874308, 16.150000254313074, 17.52500039339064, 16.600000222523907, 16.633333603540983, 17.033333698908486, 17.575000007947196, 16.366666932900618, 17.166667064030893, 16.933333555857256, 17.725000341733164, 17.76666700839985, 17.54166694482169, 17.100000182787493, 17.375000357627844, 17.225000222524084, 16.550000270207786, 16.458333452542686, 17.383333643277535, 17.141667068004544, 17.275000095367435, 17.38333344459529, 17.083333770434027, 16.458333452542618, 17.07500040531159, 16.800000131130098, 17.450000345707007, 16.508333484331697, 16.983333826064882, 17.691667000452625, 17.225000282128573, 16.883333643277332, 17.46666689713795, 18.2750002543131, 16.26666696866356, 16.741667032241782, 16.991666992505362, 17.041666984558116, 17.87500007947284, 17.250000238418416, 17.458333452542522, 17.791667064030964, 17.150000413258727, 16.90833350022625, 17.541666984557985, 17.02500041325879, 18.175000270207725, 18.250000397364207, 18.8750003576278, 17.716666897137966, 16.59166689713797, 17.300000031789065, 17.91666714350386, 18.158333619435673, 17.80000038941701, 18.46666705608359, 18.091667056083676, 18.325000286102327, 18.23333354790994, 18.516666928927126, 18.183333635330058, 17.975000381469727, 17.691666841506926, 17.28333353996282, 18.608333627382926, 18.025000174840248, 19.383333603540926, 19.100000023841748, 18.816666801770626]}, {\"line\": {\"color\": \"rgba(55, 128, 191, 1.0)\", \"dash\": \"solid\", \"shape\": \"linear\", \"width\": 1.3}, \"mode\": \"lines\", \"name\": \"Beijing\", \"text\": \"\", \"type\": \"scatter\", \"x\": [0, 1, 2, 3, 4, 5, 6, 7, 8, 9, 10, 11, 12, 13, 14, 15, 16, 17, 18, 19, 20, 21, 22, 23, 24, 25, 26, 27, 28, 29, 30, 31, 32, 33, 34, 35, 36, 37, 38, 39, 40, 41, 42, 43, 44, 45, 46, 47, 48, 49, 50, 51, 52, 53, 54, 55, 56, 57, 58, 59, 60, 61, 62, 63, 64, 65, 66, 67, 68, 69, 70, 71, 72, 73, 74, 75, 76, 77, 78, 79, 80, 81, 82, 83, 84, 85, 86, 87, 88, 89, 90, 91, 92, 93, 94, 95, 96, 97, 98, 99, 100, 101, 102, 103, 104, 105, 106, 107, 108, 109, 110, 111, 112, 113, 114, 115], \"y\": [11.691667099793706, 12.650000203400742, 12.058333662648897, 11.983333542942967, 11.716666926940297, 11.341666817665116, 11.7250002821286, 11.425000222399824, 11.416666785875867, 10.891666611035651, 10.758333563804634, 11.20000021656346, 11.175000369548783, 12.041666892667585, 11.000000106791662, 11.291666766007731, 11.025000214576812, 11.166666845480657, 11.76666694382829, 12.033333599567408, 11.96666669845569, 11.89166673024483, 11.650000194708392, 11.941667040189124, 11.575000206629433, 11.833333810170425, 11.991666932900756, 11.975000063578241, 11.87500039736426, 12.141667013367085, 11.591666758060457, 12.008333543936402, 11.283333361148799, 11.400000120202625, 12.341666767994608, 11.108333269755015, 12.033333554863857, 12.450000216563424, 12.391666933894085, 12.291666830579375, 12.541667004426294, 12.625000168879758, 12.725000118215862, 12.183333367109258, 12.51666707793875, 12.675000235438267, 11.033333361148884, 12.525000230098696, 12.300000200668904, 12.11666701237361, 11.891666760047196, 11.591666817665134, 11.883333474397674, 11.474999984105333, 12.333333684131476, 11.058333535989199, 11.39166688919061, 12.225000123183008, 12.416666756073626, 12.341666956742543, 12.791666865348859, 12.183333257834049, 12.091666946808424, 11.508333623409234, 12.200000231464612, 11.75833359360682, 11.516666769981384, 11.966666897138003, 10.816666901111525, 11.333333452542616, 11.691666742165834, 11.783333688974382, 12.11666686336194, 11.675000300009957, 12.69166692097987, 11.40833345552278, 12.183333414917243, 12.300000071525625, 12.066666896144623, 11.77500033378609, 12.450000380476341, 13.025000219543701, 13.083333355064104, 11.97500008344656, 11.733333587646419, 12.308333575725657, 12.53333348780857, 12.750000232209679, 13.041666902601692, 12.825000284239598, 12.466666954879903, 12.683333563307828, 12.608333329359615, 13.4666667381922, 13.066666911045713, 12.558333550890204, 13.241666848460815, 13.533333490292163, 13.466666852434445, 12.841666867335668, 13.050000300010003, 13.358333468437221, 12.75000000186253, 13.458333658675429, 13.066666861375113, 13.48333349078888, 13.875000248352613, 13.250000270083497, 13.241666724284542, 12.641666705409621, 12.758333591744304, 12.37500021855036, 12.641666690508458, 13.600000346700318, 13.641667048136318, 13.658333574732104]}, {\"line\": {\"color\": \"rgba(50, 171, 96, 1.0)\", \"dash\": \"solid\", \"shape\": \"linear\", \"width\": 1.3}, \"mode\": \"lines\", \"name\": \"Sao Paulo\", \"text\": \"\", \"type\": \"scatter\", \"x\": [0, 1, 2, 3, 4, 5, 6, 7, 8, 9, 10, 11, 12, 13, 14, 15, 16, 17, 18, 19, 20, 21, 22, 23, 24, 25, 26, 27, 28, 29, 30, 31, 32, 33, 34, 35, 36, 37, 38, 39, 40, 41, 42, 43, 44, 45, 46, 47, 48, 49, 50, 51, 52, 53, 54, 55, 56, 57, 58, 59, 60, 61, 62, 63, 64, 65, 66, 67, 68, 69, 70, 71, 72, 73, 74, 75, 76, 77, 78, 79, 80, 81, 82, 83, 84, 85, 86, 87, 88, 89, 90, 91, 92, 93, 94, 95, 96, 97, 98, 99, 100, 101, 102, 103, 104, 105, 106, 107, 108, 109, 110, 111, 112, 113, 114, 115], \"y\": [17.775000333786, 18.900000174840166, 18.258333762486753, 17.91666682561233, 18.49166703224167, 18.458333810170416, 18.00833368301375, 18.066667000452497, 17.941667000452668, 17.950000445047916, 17.891666730244918, 18.258333762486835, 18.48333342870075, 19.241667032241754, 18.941666920979753, 18.25833360354092, 17.11666703224175, 17.741666952768917, 18.341666857401503, 18.275000413258834, 18.108333667119165, 18.550000270207754, 18.475000301996836, 17.983333826065085, 18.425000349680417, 18.525000413258667, 18.241666714350334, 18.941667318344084, 18.46666693687433, 18.85833374659217, 18.416666825612417, 19.150000254313, 18.108333667119165, 18.85000014305108, 18.350000222524084, 18.608333587646417, 17.991667032241832, 18.37500031789142, 18.46666693687425, 19.058333555857168, 19.175000508626166, 18.716666857401588, 18.68333355585725, 19.23333350817342, 18.950000445048, 18.95000012715641, 18.325000206629415, 18.650000333785915, 18.508333603540834, 18.9583337306975, 18.166666825612335, 18.991666793823168, 19.000000715255585, 19.375000476837002, 18.800000031789082, 18.466666777928584, 18.950000127156496, 19.675000349680413, 19.875000556310003, 19.050000349680417, 19.95000028610217, 18.466667016347085, 19.73333390553775, 18.6833333969115, 19.433333794275836, 19.558333873748584, 19.608333746592084, 18.5833337306975, 19.38333352406808, 19.375000556309917, 19.050000190734746, 19.475000143050913, 19.716666857401332, 19.191666920979753, 19.408333857854085, 19.000000397364165, 20.033333619435414, 19.44166668256125, 18.85833374659217, 19.6416668891905, 19.433333476384416, 19.408333301543916, 19.725000381469584, 20.025000492731582, 19.625000476837084, 20.016666809717666, 19.716667016347085, 19.433333635330253, 19.283333381016835, 19.875000556309917, 19.841667016347166, 19.825000445047916, 19.916667143503584, 19.975000540415166, 20.366667270660418, 19.833333492279, 20.266667048136334, 20.258333683014005, 19.658333937326834, 19.908333698908333, 20.700000286102338, 21.183333555857164, 20.458333810170334, 19.891667048136334, 20.53333377838125, 20.466667175292923, 20.72500054041542, 20.025000413258752, 20.550000349680584, 20.4750003814695, 20.125000476837002, 20.8500003814695, 20.200000445048, 21.133333841959416, 21.216667175292834, 20.550000349680502]}, {\"line\": {\"color\": \"rgba(128, 0, 128, 1.0)\", \"dash\": \"solid\", \"shape\": \"linear\", \"width\": 1.3}, \"mode\": \"lines\", \"name\": \"Lagos\", \"text\": \"\", \"type\": \"scatter\", \"x\": [0, 1, 2, 3, 4, 5, 6, 7, 8, 9, 10, 11, 12, 13, 14, 15, 16, 17, 18, 19, 20, 21, 22, 23, 24, 25, 26, 27, 28, 29, 30, 31, 32, 33, 34, 35, 36, 37, 38, 39, 40, 41, 42, 43, 44, 45, 46, 47, 48, 49, 50, 51, 52, 53, 54, 55, 56, 57, 58, 59, 60, 61, 62, 63, 64, 65, 66, 67, 68, 69, 70, 71, 72, 73, 74, 75, 76, 77, 78, 79, 80, 81, 82, 83, 84, 85, 86, 87, 88, 89, 90, 91, 92, 93, 94, 95, 96, 97, 98, 99, 100, 101, 102, 103, 104, 105, 106, 107, 108, 109, 110, 111, 112, 113, 114, 115], \"y\": [26.858333746592, 27.125000476837002, 27.26666704813633, 26.966667175292667, 27.158333778381166, 27.75000063578267, 27.23333358764633, 27.12500063578275, 27.233333587646502, 27.208333651224667, 27.30833387374867, 27.450000286102167, 27.53333393732692, 28.10833358764633, 27.241666793823082, 27.241666793823082, 27.241666793823082, 27.241666793823082, 27.241666793823082, 27.300000190734664, 27.241666793823082, 27.258333524067996, 27.025000413258837, 27.108333746592084, 26.525000254312914, 27.325000127156414, 26.700000445047834, 26.583333492278914, 26.325000603993587, 27.658333937327, 27.825000286102167, 27.841667175292923, 27.700000286102252, 27.683333714802917, 27.74999999999983, 27.033333937327004, 28.416666825612165, 28.741666952768835, 27.958333651224752, 27.333333492278914, 28.091666857401417, 27.741666952768835, 27.308333555857164, 27.59166701634717, 27.25833352406808, 27.10833358764633, 27.516666730244832, 27.000000476837084, 27.633333841959583, 27.066666920979838, 27.683333555857164, 27.325000286102167, 27.10833358764633, 26.775000254313, 26.800000190734664, 26.791666984558002, 27.00833352406791, 27.150000572204416, 27.200000286102167, 27.116666793823168, 27.025000254313085, 26.96666669845575, 27.375000317891335, 26.92500050862608, 27.041666984557917, 27.358333746592, 26.975000381469584, 27.233333905537833, 27.575000445048005, 27.3250006039935, 26.50833368301375, 26.841667016347085, 27.25833368301375, 26.500000635782666, 26.316667079925335, 26.325000286102167, 27.125000476837002, 26.716667016347085, 27.050000190734664, 27.000000476837002, 27.641667048136252, 27.46666701634717, 27.841667016347255, 27.73333374659217, 27.550000349680502, 27.350000540415422, 28.333333651224578, 27.775000254313085, 27.47500006357808, 27.85833358764633, 27.016666889190585, 26.991666952768835, 27.091666698455583, 27.0333336194355, 27.225000222524002, 27.208333969116, 27.1333338419595, 27.800000667571922, 27.20000028610225, 27.55000050862617, 27.650000413258752, 27.583333810170334, 27.766667048136252, 27.516666730244747, 27.758333841959587, 27.8083338737485, 27.625000476837084, 27.591667175292745, 27.775000413258834, 28.141667048136252, 27.666667143503755, 27.533333460489747, 27.80000050862625, 27.90000041325858, 27.950000286102252, 28.166667302449415]}, {\"line\": {\"color\": \"rgba(219, 64, 82, 1.0)\", \"dash\": \"solid\", \"shape\": \"linear\", \"width\": 1.3}, \"mode\": \"lines\", \"name\": \"Madrid\", \"text\": \"\", \"type\": \"scatter\", \"x\": [0, 1, 2, 3, 4, 5, 6, 7, 8, 9, 10, 11, 12, 13, 14, 15, 16, 17, 18, 19, 20, 21, 22, 23, 24, 25, 26, 27, 28, 29, 30, 31, 32, 33, 34, 35, 36, 37, 38, 39, 40, 41, 42, 43, 44, 45, 46, 47, 48, 49, 50, 51, 52, 53, 54, 55, 56, 57, 58, 59, 60, 61, 62, 63, 64, 65, 66, 67, 68, 69, 70, 71, 72, 73, 74, 75, 76, 77, 78, 79, 80, 81, 82, 83, 84, 85, 86, 87, 88, 89, 90, 91, 92, 93, 94, 95, 96, 97, 98, 99, 100, 101, 102, 103, 104, 105, 106, 107, 108, 109, 110, 111, 112, 113, 114, 115], \"y\": [13.40833330154413, 13.633333484331793, 13.766666849454282, 14.25833340485884, 13.433333436648107, 13.766666690508508, 13.675000230471353, 14.02500013510379, 13.525000174840274, 13.466666976610925, 13.600000222523933, 13.52500041325878, 13.850000262260417, 13.625000298023197, 13.658333539962783, 13.766666889190558, 13.350000301996792, 13.650000294049548, 13.533333659172108, 13.766666928927151, 14.07500024636579, 13.691667079925573, 13.85000026226046, 14.133333683013824, 13.141666849454182, 14.683333516121069, 14.1833336353302, 14.150000254313147, 14.241666932900648, 14.408333579699125, 14.083333412806184, 13.658333420753442, 14.150000294049583, 14.04166690508525, 13.733333587646475, 13.591666936874399, 14.483333547910048, 14.041666944821692, 13.666666944821593, 13.900000135103815, 13.550000071525583, 14.150000294049674, 14.575000127156573, 13.850000381469641, 14.966666618982908, 13.983333468437225, 14.766667087872841, 14.925000111262065, 14.92500030994414, 14.583333532015535, 13.82500044504799, 14.283333758513166, 14.408333619435524, 14.025000294049653, 15.116666952769, 13.300000150998324, 14.041666924953459, 14.566666960716192, 14.5166669686635, 14.366666992505445, 15.225000103314708, 14.450000365575116, 14.016666849454202, 14.72500014305104, 14.25833348433185, 14.6583335399627, 14.375000158945701, 14.675000270207766, 13.8250000476837, 14.458333452542675, 13.816666920979808, 13.608333468437209, 14.266667048136407, 14.083333770434004, 14.133333603541049, 14.158333619435547, 14.258333722750399, 14.47500018278751, 14.616666714350366, 14.366666833559641, 15.050000270207754, 15.025000294049612, 14.983333746592166, 14.166666785875849, 14.983333508173532, 14.80000038941695, 15.233333468437202, 14.89166688919065, 15.783333539962717, 15.566667040189033, 14.941667000452698, 14.841666936874484, 14.300000111262024, 15.358333547910137, 15.841666897137932, 14.975000580151935, 15.808333396911655, 15.425000111261992, 15.150000254313158, 15.208333690961226, 15.32500028610231, 15.350000222523974, 15.775000135103875, 15.316666841506985, 15.200000325838673, 15.883333524068227, 15.066666920979825, 15.033333500226341, 15.858333547910116, 15.016666889190732, 15.841666936874468, 15.408333659172193, 15.25833360354106, 16.01666680971773, 15.983333627382905, 15.775000294049448]}, {\"line\": {\"color\": \"rgba(0, 128, 128, 1.0)\", \"dash\": \"solid\", \"shape\": \"linear\", \"width\": 1.3}, \"mode\": \"lines\", \"name\": \"Auckland\", \"text\": \"\", \"type\": \"scatter\", \"x\": [0, 1, 2, 3, 4, 5, 6, 7, 8, 9, 10, 11, 12, 13, 14, 15, 16, 17, 18, 19, 20, 21, 22, 23, 24, 25, 26, 27, 28, 29, 30, 31, 32, 33, 34, 35, 36, 37, 38, 39, 40, 41, 42, 43, 44, 45, 46, 47, 48, 49, 50, 51, 52, 53, 54, 55, 56, 57, 58, 59, 60, 61, 62, 63, 64, 65, 66, 67, 68, 69, 70, 71, 72, 73, 74, 75, 76, 77, 78, 79, 80, 81, 82, 83, 84, 85, 86, 87, 88, 89, 90, 91, 92, 93, 94, 95, 96, 97, 98, 99, 100, 101, 102, 103, 104, 105, 106, 107, 108, 109, 110, 111, 112, 113, 114, 115], \"y\": [14.041666666666657, 13.541666825612332, 14.116666952768966, 13.741666793823333, 14.15000025431325, 13.891666889190752, 14.941666841507, 14.591667095820162, 15.016667048136418, 15.075000286102336, 14.700000206629502, 13.991666793823251, 14.258333524068165, 14.191666762034075, 14.916666825612417, 15.491667111714749, 14.916666905085252, 14.24166687329606, 13.80833363533025, 14.408333619435666, 14.641666889190668, 14.583333492279081, 14.083333492279065, 14.908333619435718, 13.941666920979918, 14.01666680971775, 14.033333539962833, 14.983333508173665, 14.400000492731843, 13.725000301996909, 13.900000333786084, 14.058333476384492, 14.541666984558082, 14.433333555857468, 14.800000270207669, 14.19166715939839, 14.025000174840386, 15.358333905537803, 14.133333603541159, 14.00000015894581, 14.133333762486764, 14.575000524520837, 14.400000174840331, 14.383333603541084, 14.091666857401565, 14.625000079472917, 14.391666730244998, 14.933333555857416, 14.541667222976834, 15.000000238418584, 14.358333587646499, 14.566666920979808, 14.733333508173667, 14.933333714803084, 15.383333683013966, 15.45000012715658, 14.90000009536739, 15.100000301996914, 14.691666841506917, 14.733333587646499, 14.750000238418666, 15.45000028610233, 14.658333619435666, 14.61666703224183, 14.283333539962825, 14.583333571751917, 14.8583335876465, 14.725000143051167, 14.525000333786094, 15.441667000452748, 15.591667016347417, 14.8416668574015, 15.375000556310084, 15.550000270207748, 15.266666730244916, 14.383333762486751, 14.266666809717917, 15.041667064030916, 15.241666873296083, 14.80000019073475, 15.466666936874416, 14.575000365575136, 14.700000286102302, 15.150000174840335, 15.175000349680666, 15.083333651224885, 15.125000317891498, 15.60833366711933, 15.475000301996916, 15.550000270207834, 14.650000333786082, 14.116666952768997, 14.183333555857416, 14.675000270207832, 15.366666873296168, 15.108333667119334, 14.783333460489999, 16.091666857401503, 15.6833334763845, 15.308333714803084, 15.4416670799255, 15.075000127156583, 15.216666936874502, 14.533333698908583, 15.525000095367503, 14.875000079472832, 15.291666825612417, 15.275000333786165, 14.87500023841867, 15.558333635330252, 15.416666905085416, 14.850000222524, 15.416666905085165, 15.150000333786087, 15.058333635330252, 15.958333651224665]}],\n",
       "                        {\"legend\": {\"bgcolor\": \"#F5F6F9\", \"font\": {\"color\": \"#4D5663\"}}, \"paper_bgcolor\": \"#F5F6F9\", \"plot_bgcolor\": \"#F5F6F9\", \"template\": {\"data\": {\"bar\": [{\"error_x\": {\"color\": \"#2a3f5f\"}, \"error_y\": {\"color\": \"#2a3f5f\"}, \"marker\": {\"line\": {\"color\": \"#E5ECF6\", \"width\": 0.5}}, \"type\": \"bar\"}], \"barpolar\": [{\"marker\": {\"line\": {\"color\": \"#E5ECF6\", \"width\": 0.5}}, \"type\": \"barpolar\"}], \"carpet\": [{\"aaxis\": {\"endlinecolor\": \"#2a3f5f\", \"gridcolor\": \"white\", \"linecolor\": \"white\", \"minorgridcolor\": \"white\", \"startlinecolor\": \"#2a3f5f\"}, \"baxis\": {\"endlinecolor\": \"#2a3f5f\", \"gridcolor\": \"white\", \"linecolor\": \"white\", \"minorgridcolor\": \"white\", \"startlinecolor\": \"#2a3f5f\"}, \"type\": \"carpet\"}], \"choropleth\": [{\"colorbar\": {\"outlinewidth\": 0, \"ticks\": \"\"}, \"type\": \"choropleth\"}], \"contour\": [{\"colorbar\": {\"outlinewidth\": 0, \"ticks\": \"\"}, \"colorscale\": [[0.0, \"#0d0887\"], [0.1111111111111111, \"#46039f\"], [0.2222222222222222, \"#7201a8\"], [0.3333333333333333, \"#9c179e\"], [0.4444444444444444, \"#bd3786\"], [0.5555555555555556, \"#d8576b\"], [0.6666666666666666, \"#ed7953\"], [0.7777777777777778, \"#fb9f3a\"], [0.8888888888888888, \"#fdca26\"], [1.0, \"#f0f921\"]], \"type\": \"contour\"}], \"contourcarpet\": [{\"colorbar\": {\"outlinewidth\": 0, \"ticks\": \"\"}, \"type\": \"contourcarpet\"}], \"heatmap\": [{\"colorbar\": {\"outlinewidth\": 0, \"ticks\": \"\"}, \"colorscale\": [[0.0, \"#0d0887\"], [0.1111111111111111, \"#46039f\"], [0.2222222222222222, \"#7201a8\"], [0.3333333333333333, \"#9c179e\"], [0.4444444444444444, \"#bd3786\"], [0.5555555555555556, \"#d8576b\"], [0.6666666666666666, \"#ed7953\"], [0.7777777777777778, \"#fb9f3a\"], [0.8888888888888888, \"#fdca26\"], [1.0, \"#f0f921\"]], \"type\": \"heatmap\"}], \"heatmapgl\": [{\"colorbar\": {\"outlinewidth\": 0, \"ticks\": \"\"}, \"colorscale\": [[0.0, \"#0d0887\"], [0.1111111111111111, \"#46039f\"], [0.2222222222222222, \"#7201a8\"], [0.3333333333333333, \"#9c179e\"], [0.4444444444444444, \"#bd3786\"], [0.5555555555555556, \"#d8576b\"], [0.6666666666666666, \"#ed7953\"], [0.7777777777777778, \"#fb9f3a\"], [0.8888888888888888, \"#fdca26\"], [1.0, \"#f0f921\"]], \"type\": \"heatmapgl\"}], \"histogram\": [{\"marker\": {\"colorbar\": {\"outlinewidth\": 0, \"ticks\": \"\"}}, \"type\": \"histogram\"}], \"histogram2d\": [{\"colorbar\": {\"outlinewidth\": 0, \"ticks\": \"\"}, \"colorscale\": [[0.0, \"#0d0887\"], [0.1111111111111111, \"#46039f\"], [0.2222222222222222, \"#7201a8\"], [0.3333333333333333, \"#9c179e\"], [0.4444444444444444, \"#bd3786\"], [0.5555555555555556, \"#d8576b\"], [0.6666666666666666, \"#ed7953\"], [0.7777777777777778, \"#fb9f3a\"], [0.8888888888888888, \"#fdca26\"], [1.0, \"#f0f921\"]], \"type\": \"histogram2d\"}], \"histogram2dcontour\": [{\"colorbar\": {\"outlinewidth\": 0, \"ticks\": \"\"}, \"colorscale\": [[0.0, \"#0d0887\"], [0.1111111111111111, \"#46039f\"], [0.2222222222222222, \"#7201a8\"], [0.3333333333333333, \"#9c179e\"], [0.4444444444444444, \"#bd3786\"], [0.5555555555555556, \"#d8576b\"], [0.6666666666666666, \"#ed7953\"], [0.7777777777777778, \"#fb9f3a\"], [0.8888888888888888, \"#fdca26\"], [1.0, \"#f0f921\"]], \"type\": \"histogram2dcontour\"}], \"mesh3d\": [{\"colorbar\": {\"outlinewidth\": 0, \"ticks\": \"\"}, \"type\": \"mesh3d\"}], \"parcoords\": [{\"line\": {\"colorbar\": {\"outlinewidth\": 0, \"ticks\": \"\"}}, \"type\": \"parcoords\"}], \"pie\": [{\"automargin\": true, \"type\": \"pie\"}], \"scatter\": [{\"marker\": {\"colorbar\": {\"outlinewidth\": 0, \"ticks\": \"\"}}, \"type\": \"scatter\"}], \"scatter3d\": [{\"line\": {\"colorbar\": {\"outlinewidth\": 0, \"ticks\": \"\"}}, \"marker\": {\"colorbar\": {\"outlinewidth\": 0, \"ticks\": \"\"}}, \"type\": \"scatter3d\"}], \"scattercarpet\": [{\"marker\": {\"colorbar\": {\"outlinewidth\": 0, \"ticks\": \"\"}}, \"type\": \"scattercarpet\"}], \"scattergeo\": [{\"marker\": {\"colorbar\": {\"outlinewidth\": 0, \"ticks\": \"\"}}, \"type\": \"scattergeo\"}], \"scattergl\": [{\"marker\": {\"colorbar\": {\"outlinewidth\": 0, \"ticks\": \"\"}}, \"type\": \"scattergl\"}], \"scattermapbox\": [{\"marker\": {\"colorbar\": {\"outlinewidth\": 0, \"ticks\": \"\"}}, \"type\": \"scattermapbox\"}], \"scatterpolar\": [{\"marker\": {\"colorbar\": {\"outlinewidth\": 0, \"ticks\": \"\"}}, \"type\": \"scatterpolar\"}], \"scatterpolargl\": [{\"marker\": {\"colorbar\": {\"outlinewidth\": 0, \"ticks\": \"\"}}, \"type\": \"scatterpolargl\"}], \"scatterternary\": [{\"marker\": {\"colorbar\": {\"outlinewidth\": 0, \"ticks\": \"\"}}, \"type\": \"scatterternary\"}], \"surface\": [{\"colorbar\": {\"outlinewidth\": 0, \"ticks\": \"\"}, \"colorscale\": [[0.0, \"#0d0887\"], [0.1111111111111111, \"#46039f\"], [0.2222222222222222, \"#7201a8\"], [0.3333333333333333, \"#9c179e\"], [0.4444444444444444, \"#bd3786\"], [0.5555555555555556, \"#d8576b\"], [0.6666666666666666, \"#ed7953\"], [0.7777777777777778, \"#fb9f3a\"], [0.8888888888888888, \"#fdca26\"], [1.0, \"#f0f921\"]], \"type\": \"surface\"}], \"table\": [{\"cells\": {\"fill\": {\"color\": \"#EBF0F8\"}, \"line\": {\"color\": \"white\"}}, \"header\": {\"fill\": {\"color\": \"#C8D4E3\"}, \"line\": {\"color\": \"white\"}}, \"type\": \"table\"}]}, \"layout\": {\"annotationdefaults\": {\"arrowcolor\": \"#2a3f5f\", \"arrowhead\": 0, \"arrowwidth\": 1}, \"coloraxis\": {\"colorbar\": {\"outlinewidth\": 0, \"ticks\": \"\"}}, \"colorscale\": {\"diverging\": [[0, \"#8e0152\"], [0.1, \"#c51b7d\"], [0.2, \"#de77ae\"], [0.3, \"#f1b6da\"], [0.4, \"#fde0ef\"], [0.5, \"#f7f7f7\"], [0.6, \"#e6f5d0\"], [0.7, \"#b8e186\"], [0.8, \"#7fbc41\"], [0.9, \"#4d9221\"], [1, \"#276419\"]], \"sequential\": [[0.0, \"#0d0887\"], [0.1111111111111111, \"#46039f\"], [0.2222222222222222, \"#7201a8\"], [0.3333333333333333, \"#9c179e\"], [0.4444444444444444, \"#bd3786\"], [0.5555555555555556, \"#d8576b\"], [0.6666666666666666, \"#ed7953\"], [0.7777777777777778, \"#fb9f3a\"], [0.8888888888888888, \"#fdca26\"], [1.0, \"#f0f921\"]], \"sequentialminus\": [[0.0, \"#0d0887\"], [0.1111111111111111, \"#46039f\"], [0.2222222222222222, \"#7201a8\"], [0.3333333333333333, \"#9c179e\"], [0.4444444444444444, \"#bd3786\"], [0.5555555555555556, \"#d8576b\"], [0.6666666666666666, \"#ed7953\"], [0.7777777777777778, \"#fb9f3a\"], [0.8888888888888888, \"#fdca26\"], [1.0, \"#f0f921\"]]}, \"colorway\": [\"#636efa\", \"#EF553B\", \"#00cc96\", \"#ab63fa\", \"#FFA15A\", \"#19d3f3\", \"#FF6692\", \"#B6E880\", \"#FF97FF\", \"#FECB52\"], \"font\": {\"color\": \"#2a3f5f\"}, \"geo\": {\"bgcolor\": \"white\", \"lakecolor\": \"white\", \"landcolor\": \"#E5ECF6\", \"showlakes\": true, \"showland\": true, \"subunitcolor\": \"white\"}, \"hoverlabel\": {\"align\": \"left\"}, \"hovermode\": \"closest\", \"mapbox\": {\"style\": \"light\"}, \"paper_bgcolor\": \"white\", \"plot_bgcolor\": \"#E5ECF6\", \"polar\": {\"angularaxis\": {\"gridcolor\": \"white\", \"linecolor\": \"white\", \"ticks\": \"\"}, \"bgcolor\": \"#E5ECF6\", \"radialaxis\": {\"gridcolor\": \"white\", \"linecolor\": \"white\", \"ticks\": \"\"}}, \"scene\": {\"xaxis\": {\"backgroundcolor\": \"#E5ECF6\", \"gridcolor\": \"white\", \"gridwidth\": 2, \"linecolor\": \"white\", \"showbackground\": true, \"ticks\": \"\", \"zerolinecolor\": \"white\"}, \"yaxis\": {\"backgroundcolor\": \"#E5ECF6\", \"gridcolor\": \"white\", \"gridwidth\": 2, \"linecolor\": \"white\", \"showbackground\": true, \"ticks\": \"\", \"zerolinecolor\": \"white\"}, \"zaxis\": {\"backgroundcolor\": \"#E5ECF6\", \"gridcolor\": \"white\", \"gridwidth\": 2, \"linecolor\": \"white\", \"showbackground\": true, \"ticks\": \"\", \"zerolinecolor\": \"white\"}}, \"shapedefaults\": {\"line\": {\"color\": \"#2a3f5f\"}}, \"ternary\": {\"aaxis\": {\"gridcolor\": \"white\", \"linecolor\": \"white\", \"ticks\": \"\"}, \"baxis\": {\"gridcolor\": \"white\", \"linecolor\": \"white\", \"ticks\": \"\"}, \"bgcolor\": \"#E5ECF6\", \"caxis\": {\"gridcolor\": \"white\", \"linecolor\": \"white\", \"ticks\": \"\"}}, \"title\": {\"x\": 0.05}, \"xaxis\": {\"automargin\": true, \"gridcolor\": \"white\", \"linecolor\": \"white\", \"ticks\": \"\", \"title\": {\"standoff\": 15}, \"zerolinecolor\": \"white\", \"zerolinewidth\": 2}, \"yaxis\": {\"automargin\": true, \"gridcolor\": \"white\", \"linecolor\": \"white\", \"ticks\": \"\", \"title\": {\"standoff\": 15}, \"zerolinecolor\": \"white\", \"zerolinewidth\": 2}}}, \"title\": {\"font\": {\"color\": \"#4D5663\"}, \"text\": \"Average Annual Temperature From 1901-2016 of 6 Major Cities\"}, \"xaxis\": {\"gridcolor\": \"#E1E5ED\", \"showgrid\": true, \"tickfont\": {\"color\": \"#4D5663\"}, \"title\": {\"font\": {\"color\": \"#4D5663\"}, \"text\": \"Number of Years After 1901\"}, \"zerolinecolor\": \"#E1E5ED\"}, \"yaxis\": {\"gridcolor\": \"#E1E5ED\", \"showgrid\": true, \"tickfont\": {\"color\": \"#4D5663\"}, \"title\": {\"font\": {\"color\": \"#4D5663\"}, \"text\": \"Temperature (\\u00b0C)\"}, \"zerolinecolor\": \"#E1E5ED\"}},\n",
       "                        {\"showLink\": true, \"linkText\": \"Export to plot.ly\", \"plotlyServerURL\": \"https://plot.ly\", \"responsive\": true}\n",
       "                    ).then(function(){\n",
       "                            \n",
       "var gd = document.getElementById('cf80988f-c057-46d5-b6e6-a06f49f8be8c');\n",
       "var x = new MutationObserver(function (mutations, observer) {{\n",
       "        var display = window.getComputedStyle(gd).display;\n",
       "        if (!display || display === 'none') {{\n",
       "            console.log([gd, 'removed!']);\n",
       "            Plotly.purge(gd);\n",
       "            observer.disconnect();\n",
       "        }}\n",
       "}});\n",
       "\n",
       "// Listen for the removal of the full notebook cells\n",
       "var notebookContainer = gd.closest('#notebook-container');\n",
       "if (notebookContainer) {{\n",
       "    x.observe(notebookContainer, {childList: true});\n",
       "}}\n",
       "\n",
       "// Listen for the clearing of the current output cell\n",
       "var outputEl = gd.closest('.output');\n",
       "if (outputEl) {{\n",
       "    x.observe(outputEl, {childList: true});\n",
       "}}\n",
       "\n",
       "                        })\n",
       "                };\n",
       "                });\n",
       "            </script>\n",
       "        </div>"
      ]
     },
     "metadata": {},
     "output_type": "display_data"
    }
   ],
   "source": [
    "#Creates a graph using the data from the table\n",
    "cityTemps = df_avgTempCities[[\"Las Vegas\", \"Beijing\", \"Sao Paulo\", \"Lagos\", \"Madrid\", \"Auckland\"]]\n",
    "cityTemps.iplot(title = \"Average Annual Temperature From 1901-2016 of 6 Major Cities\",\n",
    "                xTitle = \"Number of Years After 1901\", yTitle = \"Temperature (°C)\")"
   ]
  },
  {
   "cell_type": "markdown",
   "metadata": {},
   "source": [
    "As shown in the graph, the average annual temperature in major cities worldwide is gradually increasing. This upwards trend leads our team to believe that the earth is becoming unhabitable and unsustainable for majority of human survival."
   ]
  },
  {
   "cell_type": "markdown",
   "metadata": {},
   "source": [
    "# Energy Usage as an Indicator of Environmental Deterioration\n",
    "\n",
    "Questions that this investigation aims to analyse: \n",
    "\n",
    "How is the energy use in wealthy countries indicative of the deterioration of the Earth?\n",
    "\n",
    "Source: \n",
    "Statistics Canada. Table 25-10-0015-01 Electric power generation, monthly generation by type of electricity DOI: https://doi.org/10.25318/2510001501-eng"
   ]
  },
  {
   "cell_type": "code",
   "execution_count": 4,
   "metadata": {},
   "outputs": [
    {
     "name": "stderr",
     "output_type": "stream",
     "text": [
      "Downloading Dataset: 100%|██████████| 1/1 [00:01<00:00,  1.11s/it]\n"
     ]
    },
    {
     "name": "stdout",
     "output_type": "stream",
     "text": [
      "PARSING DATA AS PANDAS DATAFRAME\n"
     ]
    },
    {
     "data": {
      "text/html": [
       "<div>\n",
       "<style scoped>\n",
       "    .dataframe tbody tr th:only-of-type {\n",
       "        vertical-align: middle;\n",
       "    }\n",
       "\n",
       "    .dataframe tbody tr th {\n",
       "        vertical-align: top;\n",
       "    }\n",
       "\n",
       "    .dataframe thead th {\n",
       "        text-align: right;\n",
       "    }\n",
       "</style>\n",
       "<table border=\"1\" class=\"dataframe\">\n",
       "  <thead>\n",
       "    <tr style=\"text-align: right;\">\n",
       "      <th></th>\n",
       "      <th>REF_DATE</th>\n",
       "      <th>GEO</th>\n",
       "      <th>DGUID</th>\n",
       "      <th>Class of electricity producer</th>\n",
       "      <th>Type of electricity generation</th>\n",
       "      <th>UOM</th>\n",
       "      <th>SCALAR_FACTOR</th>\n",
       "      <th>VALUE</th>\n",
       "    </tr>\n",
       "  </thead>\n",
       "  <tbody>\n",
       "    <tr>\n",
       "      <th>22190</th>\n",
       "      <td>2016-01-01</td>\n",
       "      <td>Canada</td>\n",
       "      <td>2016A000011124</td>\n",
       "      <td>Total all classes of electricity producer</td>\n",
       "      <td>Total electricity production from combustible ...</td>\n",
       "      <td>Megawatt hours</td>\n",
       "      <td>units</td>\n",
       "      <td>13198111.0</td>\n",
       "    </tr>\n",
       "    <tr>\n",
       "      <th>22201</th>\n",
       "      <td>2016-01-01</td>\n",
       "      <td>Canada</td>\n",
       "      <td>2016A000011124</td>\n",
       "      <td>Electricity producers, electric utilities</td>\n",
       "      <td>Total electricity production from combustible ...</td>\n",
       "      <td>Megawatt hours</td>\n",
       "      <td>units</td>\n",
       "      <td>9863214.0</td>\n",
       "    </tr>\n",
       "    <tr>\n",
       "      <th>22211</th>\n",
       "      <td>2016-01-01</td>\n",
       "      <td>Canada</td>\n",
       "      <td>2016A000011124</td>\n",
       "      <td>Electricity producers, industries</td>\n",
       "      <td>Total electricity production from combustible ...</td>\n",
       "      <td>Megawatt hours</td>\n",
       "      <td>units</td>\n",
       "      <td>3334897.0</td>\n",
       "    </tr>\n",
       "    <tr>\n",
       "      <th>22564</th>\n",
       "      <td>2016-02-01</td>\n",
       "      <td>Canada</td>\n",
       "      <td>2016A000011124</td>\n",
       "      <td>Total all classes of electricity producer</td>\n",
       "      <td>Total electricity production from combustible ...</td>\n",
       "      <td>Megawatt hours</td>\n",
       "      <td>units</td>\n",
       "      <td>11279020.0</td>\n",
       "    </tr>\n",
       "    <tr>\n",
       "      <th>22575</th>\n",
       "      <td>2016-02-01</td>\n",
       "      <td>Canada</td>\n",
       "      <td>2016A000011124</td>\n",
       "      <td>Electricity producers, electric utilities</td>\n",
       "      <td>Total electricity production from combustible ...</td>\n",
       "      <td>Megawatt hours</td>\n",
       "      <td>units</td>\n",
       "      <td>8787302.0</td>\n",
       "    </tr>\n",
       "    <tr>\n",
       "      <th>...</th>\n",
       "      <td>...</td>\n",
       "      <td>...</td>\n",
       "      <td>...</td>\n",
       "      <td>...</td>\n",
       "      <td>...</td>\n",
       "      <td>...</td>\n",
       "      <td>...</td>\n",
       "      <td>...</td>\n",
       "    </tr>\n",
       "    <tr>\n",
       "      <th>40613</th>\n",
       "      <td>2020-02-01</td>\n",
       "      <td>Canada</td>\n",
       "      <td>2016A000011124</td>\n",
       "      <td>Electricity producers, electric utilities</td>\n",
       "      <td>Total electricity production from combustible ...</td>\n",
       "      <td>Megawatt hours</td>\n",
       "      <td>units</td>\n",
       "      <td>8795827.0</td>\n",
       "    </tr>\n",
       "    <tr>\n",
       "      <th>40625</th>\n",
       "      <td>2020-02-01</td>\n",
       "      <td>Canada</td>\n",
       "      <td>2016A000011124</td>\n",
       "      <td>Electricity producers, industries</td>\n",
       "      <td>Total electricity production from combustible ...</td>\n",
       "      <td>Megawatt hours</td>\n",
       "      <td>units</td>\n",
       "      <td>2237827.0</td>\n",
       "    </tr>\n",
       "    <tr>\n",
       "      <th>41058</th>\n",
       "      <td>2020-03-01</td>\n",
       "      <td>Canada</td>\n",
       "      <td>2016A000011124</td>\n",
       "      <td>Total all classes of electricity producer</td>\n",
       "      <td>Total electricity production from combustible ...</td>\n",
       "      <td>Megawatt hours</td>\n",
       "      <td>units</td>\n",
       "      <td>10782081.0</td>\n",
       "    </tr>\n",
       "    <tr>\n",
       "      <th>41071</th>\n",
       "      <td>2020-03-01</td>\n",
       "      <td>Canada</td>\n",
       "      <td>2016A000011124</td>\n",
       "      <td>Electricity producers, electric utilities</td>\n",
       "      <td>Total electricity production from combustible ...</td>\n",
       "      <td>Megawatt hours</td>\n",
       "      <td>units</td>\n",
       "      <td>8394164.0</td>\n",
       "    </tr>\n",
       "    <tr>\n",
       "      <th>41083</th>\n",
       "      <td>2020-03-01</td>\n",
       "      <td>Canada</td>\n",
       "      <td>2016A000011124</td>\n",
       "      <td>Electricity producers, industries</td>\n",
       "      <td>Total electricity production from combustible ...</td>\n",
       "      <td>Megawatt hours</td>\n",
       "      <td>units</td>\n",
       "      <td>2387917.0</td>\n",
       "    </tr>\n",
       "  </tbody>\n",
       "</table>\n",
       "<p>153 rows × 8 columns</p>\n",
       "</div>"
      ],
      "text/plain": [
       "        REF_DATE     GEO           DGUID  \\\n",
       "22190 2016-01-01  Canada  2016A000011124   \n",
       "22201 2016-01-01  Canada  2016A000011124   \n",
       "22211 2016-01-01  Canada  2016A000011124   \n",
       "22564 2016-02-01  Canada  2016A000011124   \n",
       "22575 2016-02-01  Canada  2016A000011124   \n",
       "...          ...     ...             ...   \n",
       "40613 2020-02-01  Canada  2016A000011124   \n",
       "40625 2020-02-01  Canada  2016A000011124   \n",
       "41058 2020-03-01  Canada  2016A000011124   \n",
       "41071 2020-03-01  Canada  2016A000011124   \n",
       "41083 2020-03-01  Canada  2016A000011124   \n",
       "\n",
       "                   Class of electricity producer  \\\n",
       "22190  Total all classes of electricity producer   \n",
       "22201  Electricity producers, electric utilities   \n",
       "22211          Electricity producers, industries   \n",
       "22564  Total all classes of electricity producer   \n",
       "22575  Electricity producers, electric utilities   \n",
       "...                                          ...   \n",
       "40613  Electricity producers, electric utilities   \n",
       "40625          Electricity producers, industries   \n",
       "41058  Total all classes of electricity producer   \n",
       "41071  Electricity producers, electric utilities   \n",
       "41083          Electricity producers, industries   \n",
       "\n",
       "                          Type of electricity generation             UOM  \\\n",
       "22190  Total electricity production from combustible ...  Megawatt hours   \n",
       "22201  Total electricity production from combustible ...  Megawatt hours   \n",
       "22211  Total electricity production from combustible ...  Megawatt hours   \n",
       "22564  Total electricity production from combustible ...  Megawatt hours   \n",
       "22575  Total electricity production from combustible ...  Megawatt hours   \n",
       "...                                                  ...             ...   \n",
       "40613  Total electricity production from combustible ...  Megawatt hours   \n",
       "40625  Total electricity production from combustible ...  Megawatt hours   \n",
       "41058  Total electricity production from combustible ...  Megawatt hours   \n",
       "41071  Total electricity production from combustible ...  Megawatt hours   \n",
       "41083  Total electricity production from combustible ...  Megawatt hours   \n",
       "\n",
       "      SCALAR_FACTOR       VALUE  \n",
       "22190         units  13198111.0  \n",
       "22201         units   9863214.0  \n",
       "22211         units   3334897.0  \n",
       "22564         units  11279020.0  \n",
       "22575         units   8787302.0  \n",
       "...             ...         ...  \n",
       "40613         units   8795827.0  \n",
       "40625         units   2237827.0  \n",
       "41058         units  10782081.0  \n",
       "41071         units   8394164.0  \n",
       "41083         units   2387917.0  \n",
       "\n",
       "[153 rows x 8 columns]"
      ]
     },
     "execution_count": 4,
     "metadata": {},
     "output_type": "execute_result"
    }
   ],
   "source": [
    "#Initializing\n",
    "'''Note: Please ensure this notebook is in the Statistics-Canada-Data folder before running. \n",
    "This section of our project requires files from the StatsCan folder. Thanks UwU'''\n",
    "\n",
    "from time import sleep\n",
    "%run -i ./StatsCan/helpers.py\n",
    "%run -i ./StatsCan/scwds.py\n",
    "%run -i ./StatsCan/sc.py\n",
    "# # Download data \n",
    "productId = \"25-10-0015-01\"\n",
    "download_tables(str(productId))\n",
    "df_fullDATA = zip_table_to_dataframe(productId)\n",
    "\n",
    "\n",
    "# Clean up full dataset - remove internal use columns\n",
    "cols = list(df_fullDATA.loc[:,'REF_DATE':'UOM'])+ ['SCALAR_FACTOR'] +  ['VALUE']\n",
    "df_less = df_fullDATA[cols]\n",
    "df_less2 = df_less.drop([\"DGUID\"], axis=1)\n",
    "condition = (df_less['Type of electricity generation'] == 'Total electricity production from combustible fuels')& (df_less['GEO'] == 'Canada')\n",
    "df_less[condition]\n",
    "#creating new table\n",
    "df_less3 = df_less[condition] \n",
    "df_less3"
   ]
  },
  {
   "cell_type": "code",
   "execution_count": 6,
   "metadata": {},
   "outputs": [
    {
     "data": {
      "application/vnd.plotly.v1+json": {
       "config": {
        "linkText": "Export to plot.ly",
        "plotlyServerURL": "https://plot.ly",
        "showLink": true
       },
       "data": [
        {
         "line": {
          "color": "rgba(255, 153, 51, 1.0)",
          "dash": "solid",
          "shape": "linear",
          "width": 1.3
         },
         "mode": "lines",
         "name": "VALUE",
         "text": "",
         "type": "scatter",
         "x": [
          22190,
          22201,
          22211,
          22564,
          22575,
          22585,
          22938,
          22949,
          22959,
          23312,
          23323,
          23333,
          23686,
          23697,
          23707,
          24060,
          24071,
          24081,
          24434,
          24445,
          24455,
          24808,
          24819,
          24829,
          25182,
          25193,
          25203,
          25556,
          25567,
          25577,
          25930,
          25941,
          25951,
          26304,
          26315,
          26325,
          26678,
          26689,
          26699,
          27052,
          27063,
          27073,
          27426,
          27437,
          27447,
          27800,
          27811,
          27821,
          28174,
          28185,
          28195,
          28548,
          28559,
          28569,
          28922,
          28933,
          28943,
          29296,
          29307,
          29317,
          29670,
          29681,
          29691,
          30044,
          30055,
          30065,
          30418,
          30429,
          30439,
          30792,
          30803,
          30813,
          31166,
          31177,
          31187,
          31540,
          31551,
          31561,
          31914,
          31925,
          31935,
          32288,
          32299,
          32309,
          32662,
          32673,
          32683,
          33036,
          33047,
          33057,
          33410,
          33421,
          33431,
          33784,
          33795,
          33805,
          34158,
          34169,
          34179,
          34532,
          34543,
          34553,
          34906,
          34917,
          34927,
          35280,
          35291,
          35301,
          35654,
          35665,
          35675,
          36028,
          36039,
          36049,
          36402,
          36413,
          36423,
          36776,
          36787,
          36797,
          37150,
          37161,
          37171,
          37524,
          37535,
          37545,
          37898,
          37909,
          37919,
          38272,
          38283,
          38293,
          38646,
          38657,
          38667,
          39020,
          39031,
          39041,
          39394,
          39405,
          39415,
          39768,
          39779,
          39789,
          40142,
          40155,
          40167,
          40600,
          40613,
          40625,
          41058,
          41071,
          41083
         ],
         "y": [
          13198111,
          9863214,
          3334897,
          11279020,
          8787302,
          2491718,
          11731616,
          9030124,
          2701492,
          10304031,
          8048216,
          2255815,
          9978273,
          8052620,
          1925653,
          10182041,
          8102746,
          2079295,
          11723718,
          9219621,
          2504097,
          12433667,
          9921837,
          2511830,
          10725872,
          8324068,
          2401804,
          10911766,
          8255391,
          2656375,
          11302875,
          8713393,
          2589482,
          12963025,
          10272758,
          2690267,
          12423939,
          9716457,
          2707482,
          11121024,
          8605306,
          2515718,
          11631511,
          9010166,
          2621345,
          9740521,
          7488081,
          2252440,
          9382215,
          7260545,
          2121670,
          8806229,
          6471592,
          2334637,
          10685531,
          8058870,
          2626661,
          11207795,
          8458410,
          2749385,
          10406230,
          7893037,
          2513193,
          9978050,
          7266080,
          2711970,
          11519573,
          8454446,
          3065127,
          12817893,
          9717473,
          3100420,
          12805399,
          10228144,
          2577255,
          10943364,
          8569761,
          2373603,
          11179679,
          8622690,
          2556989,
          9741183,
          7352113,
          2389070,
          9062862,
          6865939,
          2196923,
          8896947,
          6752184,
          2144763,
          11668956,
          9298641,
          2370315,
          12032532,
          9668568,
          2363964,
          10821419,
          8511089,
          2310330,
          10108125,
          7669987,
          2438138,
          11103850,
          8676199,
          2427651,
          12150139,
          9487266,
          2662873,
          12584367,
          9914750,
          2669617,
          12454427,
          9995878,
          2458549,
          12762248,
          10178538,
          2583710,
          9826118,
          7434360,
          2391758,
          9417139,
          7028340,
          2388799,
          8711451,
          6635454,
          2075997,
          11618061,
          9386745,
          2231316,
          10851616,
          8617428,
          2234188,
          10051850,
          8049139,
          2002711,
          10399478,
          8245531,
          2153947,
          11289110,
          9027881,
          2261229,
          11891937,
          9486709,
          2405228,
          12047020,
          9627875,
          2419145,
          11033654,
          8795827,
          2237827,
          10782081,
          8394164,
          2387917
         ]
        }
       ],
       "layout": {
        "legend": {
         "bgcolor": "#F5F6F9",
         "font": {
          "color": "#4D5663"
         }
        },
        "paper_bgcolor": "#F5F6F9",
        "plot_bgcolor": "#F5F6F9",
        "template": {
         "data": {
          "bar": [
           {
            "error_x": {
             "color": "#2a3f5f"
            },
            "error_y": {
             "color": "#2a3f5f"
            },
            "marker": {
             "line": {
              "color": "#E5ECF6",
              "width": 0.5
             }
            },
            "type": "bar"
           }
          ],
          "barpolar": [
           {
            "marker": {
             "line": {
              "color": "#E5ECF6",
              "width": 0.5
             }
            },
            "type": "barpolar"
           }
          ],
          "carpet": [
           {
            "aaxis": {
             "endlinecolor": "#2a3f5f",
             "gridcolor": "white",
             "linecolor": "white",
             "minorgridcolor": "white",
             "startlinecolor": "#2a3f5f"
            },
            "baxis": {
             "endlinecolor": "#2a3f5f",
             "gridcolor": "white",
             "linecolor": "white",
             "minorgridcolor": "white",
             "startlinecolor": "#2a3f5f"
            },
            "type": "carpet"
           }
          ],
          "choropleth": [
           {
            "colorbar": {
             "outlinewidth": 0,
             "ticks": ""
            },
            "type": "choropleth"
           }
          ],
          "contour": [
           {
            "colorbar": {
             "outlinewidth": 0,
             "ticks": ""
            },
            "colorscale": [
             [
              0,
              "#0d0887"
             ],
             [
              0.1111111111111111,
              "#46039f"
             ],
             [
              0.2222222222222222,
              "#7201a8"
             ],
             [
              0.3333333333333333,
              "#9c179e"
             ],
             [
              0.4444444444444444,
              "#bd3786"
             ],
             [
              0.5555555555555556,
              "#d8576b"
             ],
             [
              0.6666666666666666,
              "#ed7953"
             ],
             [
              0.7777777777777778,
              "#fb9f3a"
             ],
             [
              0.8888888888888888,
              "#fdca26"
             ],
             [
              1,
              "#f0f921"
             ]
            ],
            "type": "contour"
           }
          ],
          "contourcarpet": [
           {
            "colorbar": {
             "outlinewidth": 0,
             "ticks": ""
            },
            "type": "contourcarpet"
           }
          ],
          "heatmap": [
           {
            "colorbar": {
             "outlinewidth": 0,
             "ticks": ""
            },
            "colorscale": [
             [
              0,
              "#0d0887"
             ],
             [
              0.1111111111111111,
              "#46039f"
             ],
             [
              0.2222222222222222,
              "#7201a8"
             ],
             [
              0.3333333333333333,
              "#9c179e"
             ],
             [
              0.4444444444444444,
              "#bd3786"
             ],
             [
              0.5555555555555556,
              "#d8576b"
             ],
             [
              0.6666666666666666,
              "#ed7953"
             ],
             [
              0.7777777777777778,
              "#fb9f3a"
             ],
             [
              0.8888888888888888,
              "#fdca26"
             ],
             [
              1,
              "#f0f921"
             ]
            ],
            "type": "heatmap"
           }
          ],
          "heatmapgl": [
           {
            "colorbar": {
             "outlinewidth": 0,
             "ticks": ""
            },
            "colorscale": [
             [
              0,
              "#0d0887"
             ],
             [
              0.1111111111111111,
              "#46039f"
             ],
             [
              0.2222222222222222,
              "#7201a8"
             ],
             [
              0.3333333333333333,
              "#9c179e"
             ],
             [
              0.4444444444444444,
              "#bd3786"
             ],
             [
              0.5555555555555556,
              "#d8576b"
             ],
             [
              0.6666666666666666,
              "#ed7953"
             ],
             [
              0.7777777777777778,
              "#fb9f3a"
             ],
             [
              0.8888888888888888,
              "#fdca26"
             ],
             [
              1,
              "#f0f921"
             ]
            ],
            "type": "heatmapgl"
           }
          ],
          "histogram": [
           {
            "marker": {
             "colorbar": {
              "outlinewidth": 0,
              "ticks": ""
             }
            },
            "type": "histogram"
           }
          ],
          "histogram2d": [
           {
            "colorbar": {
             "outlinewidth": 0,
             "ticks": ""
            },
            "colorscale": [
             [
              0,
              "#0d0887"
             ],
             [
              0.1111111111111111,
              "#46039f"
             ],
             [
              0.2222222222222222,
              "#7201a8"
             ],
             [
              0.3333333333333333,
              "#9c179e"
             ],
             [
              0.4444444444444444,
              "#bd3786"
             ],
             [
              0.5555555555555556,
              "#d8576b"
             ],
             [
              0.6666666666666666,
              "#ed7953"
             ],
             [
              0.7777777777777778,
              "#fb9f3a"
             ],
             [
              0.8888888888888888,
              "#fdca26"
             ],
             [
              1,
              "#f0f921"
             ]
            ],
            "type": "histogram2d"
           }
          ],
          "histogram2dcontour": [
           {
            "colorbar": {
             "outlinewidth": 0,
             "ticks": ""
            },
            "colorscale": [
             [
              0,
              "#0d0887"
             ],
             [
              0.1111111111111111,
              "#46039f"
             ],
             [
              0.2222222222222222,
              "#7201a8"
             ],
             [
              0.3333333333333333,
              "#9c179e"
             ],
             [
              0.4444444444444444,
              "#bd3786"
             ],
             [
              0.5555555555555556,
              "#d8576b"
             ],
             [
              0.6666666666666666,
              "#ed7953"
             ],
             [
              0.7777777777777778,
              "#fb9f3a"
             ],
             [
              0.8888888888888888,
              "#fdca26"
             ],
             [
              1,
              "#f0f921"
             ]
            ],
            "type": "histogram2dcontour"
           }
          ],
          "mesh3d": [
           {
            "colorbar": {
             "outlinewidth": 0,
             "ticks": ""
            },
            "type": "mesh3d"
           }
          ],
          "parcoords": [
           {
            "line": {
             "colorbar": {
              "outlinewidth": 0,
              "ticks": ""
             }
            },
            "type": "parcoords"
           }
          ],
          "pie": [
           {
            "automargin": true,
            "type": "pie"
           }
          ],
          "scatter": [
           {
            "marker": {
             "colorbar": {
              "outlinewidth": 0,
              "ticks": ""
             }
            },
            "type": "scatter"
           }
          ],
          "scatter3d": [
           {
            "line": {
             "colorbar": {
              "outlinewidth": 0,
              "ticks": ""
             }
            },
            "marker": {
             "colorbar": {
              "outlinewidth": 0,
              "ticks": ""
             }
            },
            "type": "scatter3d"
           }
          ],
          "scattercarpet": [
           {
            "marker": {
             "colorbar": {
              "outlinewidth": 0,
              "ticks": ""
             }
            },
            "type": "scattercarpet"
           }
          ],
          "scattergeo": [
           {
            "marker": {
             "colorbar": {
              "outlinewidth": 0,
              "ticks": ""
             }
            },
            "type": "scattergeo"
           }
          ],
          "scattergl": [
           {
            "marker": {
             "colorbar": {
              "outlinewidth": 0,
              "ticks": ""
             }
            },
            "type": "scattergl"
           }
          ],
          "scattermapbox": [
           {
            "marker": {
             "colorbar": {
              "outlinewidth": 0,
              "ticks": ""
             }
            },
            "type": "scattermapbox"
           }
          ],
          "scatterpolar": [
           {
            "marker": {
             "colorbar": {
              "outlinewidth": 0,
              "ticks": ""
             }
            },
            "type": "scatterpolar"
           }
          ],
          "scatterpolargl": [
           {
            "marker": {
             "colorbar": {
              "outlinewidth": 0,
              "ticks": ""
             }
            },
            "type": "scatterpolargl"
           }
          ],
          "scatterternary": [
           {
            "marker": {
             "colorbar": {
              "outlinewidth": 0,
              "ticks": ""
             }
            },
            "type": "scatterternary"
           }
          ],
          "surface": [
           {
            "colorbar": {
             "outlinewidth": 0,
             "ticks": ""
            },
            "colorscale": [
             [
              0,
              "#0d0887"
             ],
             [
              0.1111111111111111,
              "#46039f"
             ],
             [
              0.2222222222222222,
              "#7201a8"
             ],
             [
              0.3333333333333333,
              "#9c179e"
             ],
             [
              0.4444444444444444,
              "#bd3786"
             ],
             [
              0.5555555555555556,
              "#d8576b"
             ],
             [
              0.6666666666666666,
              "#ed7953"
             ],
             [
              0.7777777777777778,
              "#fb9f3a"
             ],
             [
              0.8888888888888888,
              "#fdca26"
             ],
             [
              1,
              "#f0f921"
             ]
            ],
            "type": "surface"
           }
          ],
          "table": [
           {
            "cells": {
             "fill": {
              "color": "#EBF0F8"
             },
             "line": {
              "color": "white"
             }
            },
            "header": {
             "fill": {
              "color": "#C8D4E3"
             },
             "line": {
              "color": "white"
             }
            },
            "type": "table"
           }
          ]
         },
         "layout": {
          "annotationdefaults": {
           "arrowcolor": "#2a3f5f",
           "arrowhead": 0,
           "arrowwidth": 1
          },
          "coloraxis": {
           "colorbar": {
            "outlinewidth": 0,
            "ticks": ""
           }
          },
          "colorscale": {
           "diverging": [
            [
             0,
             "#8e0152"
            ],
            [
             0.1,
             "#c51b7d"
            ],
            [
             0.2,
             "#de77ae"
            ],
            [
             0.3,
             "#f1b6da"
            ],
            [
             0.4,
             "#fde0ef"
            ],
            [
             0.5,
             "#f7f7f7"
            ],
            [
             0.6,
             "#e6f5d0"
            ],
            [
             0.7,
             "#b8e186"
            ],
            [
             0.8,
             "#7fbc41"
            ],
            [
             0.9,
             "#4d9221"
            ],
            [
             1,
             "#276419"
            ]
           ],
           "sequential": [
            [
             0,
             "#0d0887"
            ],
            [
             0.1111111111111111,
             "#46039f"
            ],
            [
             0.2222222222222222,
             "#7201a8"
            ],
            [
             0.3333333333333333,
             "#9c179e"
            ],
            [
             0.4444444444444444,
             "#bd3786"
            ],
            [
             0.5555555555555556,
             "#d8576b"
            ],
            [
             0.6666666666666666,
             "#ed7953"
            ],
            [
             0.7777777777777778,
             "#fb9f3a"
            ],
            [
             0.8888888888888888,
             "#fdca26"
            ],
            [
             1,
             "#f0f921"
            ]
           ],
           "sequentialminus": [
            [
             0,
             "#0d0887"
            ],
            [
             0.1111111111111111,
             "#46039f"
            ],
            [
             0.2222222222222222,
             "#7201a8"
            ],
            [
             0.3333333333333333,
             "#9c179e"
            ],
            [
             0.4444444444444444,
             "#bd3786"
            ],
            [
             0.5555555555555556,
             "#d8576b"
            ],
            [
             0.6666666666666666,
             "#ed7953"
            ],
            [
             0.7777777777777778,
             "#fb9f3a"
            ],
            [
             0.8888888888888888,
             "#fdca26"
            ],
            [
             1,
             "#f0f921"
            ]
           ]
          },
          "colorway": [
           "#636efa",
           "#EF553B",
           "#00cc96",
           "#ab63fa",
           "#FFA15A",
           "#19d3f3",
           "#FF6692",
           "#B6E880",
           "#FF97FF",
           "#FECB52"
          ],
          "font": {
           "color": "#2a3f5f"
          },
          "geo": {
           "bgcolor": "white",
           "lakecolor": "white",
           "landcolor": "#E5ECF6",
           "showlakes": true,
           "showland": true,
           "subunitcolor": "white"
          },
          "hoverlabel": {
           "align": "left"
          },
          "hovermode": "closest",
          "mapbox": {
           "style": "light"
          },
          "paper_bgcolor": "white",
          "plot_bgcolor": "#E5ECF6",
          "polar": {
           "angularaxis": {
            "gridcolor": "white",
            "linecolor": "white",
            "ticks": ""
           },
           "bgcolor": "#E5ECF6",
           "radialaxis": {
            "gridcolor": "white",
            "linecolor": "white",
            "ticks": ""
           }
          },
          "scene": {
           "xaxis": {
            "backgroundcolor": "#E5ECF6",
            "gridcolor": "white",
            "gridwidth": 2,
            "linecolor": "white",
            "showbackground": true,
            "ticks": "",
            "zerolinecolor": "white"
           },
           "yaxis": {
            "backgroundcolor": "#E5ECF6",
            "gridcolor": "white",
            "gridwidth": 2,
            "linecolor": "white",
            "showbackground": true,
            "ticks": "",
            "zerolinecolor": "white"
           },
           "zaxis": {
            "backgroundcolor": "#E5ECF6",
            "gridcolor": "white",
            "gridwidth": 2,
            "linecolor": "white",
            "showbackground": true,
            "ticks": "",
            "zerolinecolor": "white"
           }
          },
          "shapedefaults": {
           "line": {
            "color": "#2a3f5f"
           }
          },
          "ternary": {
           "aaxis": {
            "gridcolor": "white",
            "linecolor": "white",
            "ticks": ""
           },
           "baxis": {
            "gridcolor": "white",
            "linecolor": "white",
            "ticks": ""
           },
           "bgcolor": "#E5ECF6",
           "caxis": {
            "gridcolor": "white",
            "linecolor": "white",
            "ticks": ""
           }
          },
          "title": {
           "x": 0.05
          },
          "xaxis": {
           "automargin": true,
           "gridcolor": "white",
           "linecolor": "white",
           "ticks": "",
           "title": {
            "standoff": 15
           },
           "zerolinecolor": "white",
           "zerolinewidth": 2
          },
          "yaxis": {
           "automargin": true,
           "gridcolor": "white",
           "linecolor": "white",
           "ticks": "",
           "title": {
            "standoff": 15
           },
           "zerolinecolor": "white",
           "zerolinewidth": 2
          }
         }
        },
        "title": {
         "font": {
          "color": "#4D5663"
         }
        },
        "xaxis": {
         "gridcolor": "#E1E5ED",
         "showgrid": true,
         "tickfont": {
          "color": "#4D5663"
         },
         "title": {
          "font": {
           "color": "#4D5663"
          },
          "text": ""
         },
         "zerolinecolor": "#E1E5ED"
        },
        "yaxis": {
         "gridcolor": "#E1E5ED",
         "showgrid": true,
         "tickfont": {
          "color": "#4D5663"
         },
         "title": {
          "font": {
           "color": "#4D5663"
          },
          "text": ""
         },
         "zerolinecolor": "#E1E5ED"
        }
       }
      },
      "text/html": [
       "<div>\n",
       "        \n",
       "        \n",
       "            <div id=\"9fe8dc38-e4df-4421-87e8-fdcd4209a17d\" class=\"plotly-graph-div\" style=\"height:525px; width:100%;\"></div>\n",
       "            <script type=\"text/javascript\">\n",
       "                require([\"plotly\"], function(Plotly) {\n",
       "                    window.PLOTLYENV=window.PLOTLYENV || {};\n",
       "                    window.PLOTLYENV.BASE_URL='https://plot.ly';\n",
       "                    \n",
       "                if (document.getElementById(\"9fe8dc38-e4df-4421-87e8-fdcd4209a17d\")) {\n",
       "                    Plotly.newPlot(\n",
       "                        '9fe8dc38-e4df-4421-87e8-fdcd4209a17d',\n",
       "                        [{\"line\": {\"color\": \"rgba(255, 153, 51, 1.0)\", \"dash\": \"solid\", \"shape\": \"linear\", \"width\": 1.3}, \"mode\": \"lines\", \"name\": \"VALUE\", \"text\": \"\", \"type\": \"scatter\", \"x\": [22190, 22201, 22211, 22564, 22575, 22585, 22938, 22949, 22959, 23312, 23323, 23333, 23686, 23697, 23707, 24060, 24071, 24081, 24434, 24445, 24455, 24808, 24819, 24829, 25182, 25193, 25203, 25556, 25567, 25577, 25930, 25941, 25951, 26304, 26315, 26325, 26678, 26689, 26699, 27052, 27063, 27073, 27426, 27437, 27447, 27800, 27811, 27821, 28174, 28185, 28195, 28548, 28559, 28569, 28922, 28933, 28943, 29296, 29307, 29317, 29670, 29681, 29691, 30044, 30055, 30065, 30418, 30429, 30439, 30792, 30803, 30813, 31166, 31177, 31187, 31540, 31551, 31561, 31914, 31925, 31935, 32288, 32299, 32309, 32662, 32673, 32683, 33036, 33047, 33057, 33410, 33421, 33431, 33784, 33795, 33805, 34158, 34169, 34179, 34532, 34543, 34553, 34906, 34917, 34927, 35280, 35291, 35301, 35654, 35665, 35675, 36028, 36039, 36049, 36402, 36413, 36423, 36776, 36787, 36797, 37150, 37161, 37171, 37524, 37535, 37545, 37898, 37909, 37919, 38272, 38283, 38293, 38646, 38657, 38667, 39020, 39031, 39041, 39394, 39405, 39415, 39768, 39779, 39789, 40142, 40155, 40167, 40600, 40613, 40625, 41058, 41071, 41083], \"y\": [13198111.0, 9863214.0, 3334897.0, 11279020.0, 8787302.0, 2491718.0, 11731616.0, 9030124.0, 2701492.0, 10304031.0, 8048216.0, 2255815.0, 9978273.0, 8052620.0, 1925653.0, 10182041.0, 8102746.0, 2079295.0, 11723718.0, 9219621.0, 2504097.0, 12433667.0, 9921837.0, 2511830.0, 10725872.0, 8324068.0, 2401804.0, 10911766.0, 8255391.0, 2656375.0, 11302875.0, 8713393.0, 2589482.0, 12963025.0, 10272758.0, 2690267.0, 12423939.0, 9716457.0, 2707482.0, 11121024.0, 8605306.0, 2515718.0, 11631511.0, 9010166.0, 2621345.0, 9740521.0, 7488081.0, 2252440.0, 9382215.0, 7260545.0, 2121670.0, 8806229.0, 6471592.0, 2334637.0, 10685531.0, 8058870.0, 2626661.0, 11207795.0, 8458410.0, 2749385.0, 10406230.0, 7893037.0, 2513193.0, 9978050.0, 7266080.0, 2711970.0, 11519573.0, 8454446.0, 3065127.0, 12817893.0, 9717473.0, 3100420.0, 12805399.0, 10228144.0, 2577255.0, 10943364.0, 8569761.0, 2373603.0, 11179679.0, 8622690.0, 2556989.0, 9741183.0, 7352113.0, 2389070.0, 9062862.0, 6865939.0, 2196923.0, 8896947.0, 6752184.0, 2144763.0, 11668956.0, 9298641.0, 2370315.0, 12032532.0, 9668568.0, 2363964.0, 10821419.0, 8511089.0, 2310330.0, 10108125.0, 7669987.0, 2438138.0, 11103850.0, 8676199.0, 2427651.0, 12150139.0, 9487266.0, 2662873.0, 12584367.0, 9914750.0, 2669617.0, 12454427.0, 9995878.0, 2458549.0, 12762248.0, 10178538.0, 2583710.0, 9826118.0, 7434360.0, 2391758.0, 9417139.0, 7028340.0, 2388799.0, 8711451.0, 6635454.0, 2075997.0, 11618061.0, 9386745.0, 2231316.0, 10851616.0, 8617428.0, 2234188.0, 10051850.0, 8049139.0, 2002711.0, 10399478.0, 8245531.0, 2153947.0, 11289110.0, 9027881.0, 2261229.0, 11891937.0, 9486709.0, 2405228.0, 12047020.0, 9627875.0, 2419145.0, 11033654.0, 8795827.0, 2237827.0, 10782081.0, 8394164.0, 2387917.0]}],\n",
       "                        {\"legend\": {\"bgcolor\": \"#F5F6F9\", \"font\": {\"color\": \"#4D5663\"}}, \"paper_bgcolor\": \"#F5F6F9\", \"plot_bgcolor\": \"#F5F6F9\", \"template\": {\"data\": {\"bar\": [{\"error_x\": {\"color\": \"#2a3f5f\"}, \"error_y\": {\"color\": \"#2a3f5f\"}, \"marker\": {\"line\": {\"color\": \"#E5ECF6\", \"width\": 0.5}}, \"type\": \"bar\"}], \"barpolar\": [{\"marker\": {\"line\": {\"color\": \"#E5ECF6\", \"width\": 0.5}}, \"type\": \"barpolar\"}], \"carpet\": [{\"aaxis\": {\"endlinecolor\": \"#2a3f5f\", \"gridcolor\": \"white\", \"linecolor\": \"white\", \"minorgridcolor\": \"white\", \"startlinecolor\": \"#2a3f5f\"}, \"baxis\": {\"endlinecolor\": \"#2a3f5f\", \"gridcolor\": \"white\", \"linecolor\": \"white\", \"minorgridcolor\": \"white\", \"startlinecolor\": \"#2a3f5f\"}, \"type\": \"carpet\"}], \"choropleth\": [{\"colorbar\": {\"outlinewidth\": 0, \"ticks\": \"\"}, \"type\": \"choropleth\"}], \"contour\": [{\"colorbar\": {\"outlinewidth\": 0, \"ticks\": \"\"}, \"colorscale\": [[0.0, \"#0d0887\"], [0.1111111111111111, \"#46039f\"], [0.2222222222222222, \"#7201a8\"], [0.3333333333333333, \"#9c179e\"], [0.4444444444444444, \"#bd3786\"], [0.5555555555555556, \"#d8576b\"], [0.6666666666666666, \"#ed7953\"], [0.7777777777777778, \"#fb9f3a\"], [0.8888888888888888, \"#fdca26\"], [1.0, \"#f0f921\"]], \"type\": \"contour\"}], \"contourcarpet\": [{\"colorbar\": {\"outlinewidth\": 0, \"ticks\": \"\"}, \"type\": \"contourcarpet\"}], \"heatmap\": [{\"colorbar\": {\"outlinewidth\": 0, \"ticks\": \"\"}, \"colorscale\": [[0.0, \"#0d0887\"], [0.1111111111111111, \"#46039f\"], [0.2222222222222222, \"#7201a8\"], [0.3333333333333333, \"#9c179e\"], [0.4444444444444444, \"#bd3786\"], [0.5555555555555556, \"#d8576b\"], [0.6666666666666666, \"#ed7953\"], [0.7777777777777778, \"#fb9f3a\"], [0.8888888888888888, \"#fdca26\"], [1.0, \"#f0f921\"]], \"type\": \"heatmap\"}], \"heatmapgl\": [{\"colorbar\": {\"outlinewidth\": 0, \"ticks\": \"\"}, \"colorscale\": [[0.0, \"#0d0887\"], [0.1111111111111111, \"#46039f\"], [0.2222222222222222, \"#7201a8\"], [0.3333333333333333, \"#9c179e\"], [0.4444444444444444, \"#bd3786\"], [0.5555555555555556, \"#d8576b\"], [0.6666666666666666, \"#ed7953\"], [0.7777777777777778, \"#fb9f3a\"], [0.8888888888888888, \"#fdca26\"], [1.0, \"#f0f921\"]], \"type\": \"heatmapgl\"}], \"histogram\": [{\"marker\": {\"colorbar\": {\"outlinewidth\": 0, \"ticks\": \"\"}}, \"type\": \"histogram\"}], \"histogram2d\": [{\"colorbar\": {\"outlinewidth\": 0, \"ticks\": \"\"}, \"colorscale\": [[0.0, \"#0d0887\"], [0.1111111111111111, \"#46039f\"], [0.2222222222222222, \"#7201a8\"], [0.3333333333333333, \"#9c179e\"], [0.4444444444444444, \"#bd3786\"], [0.5555555555555556, \"#d8576b\"], [0.6666666666666666, \"#ed7953\"], [0.7777777777777778, \"#fb9f3a\"], [0.8888888888888888, \"#fdca26\"], [1.0, \"#f0f921\"]], \"type\": \"histogram2d\"}], \"histogram2dcontour\": [{\"colorbar\": {\"outlinewidth\": 0, \"ticks\": \"\"}, \"colorscale\": [[0.0, \"#0d0887\"], [0.1111111111111111, \"#46039f\"], [0.2222222222222222, \"#7201a8\"], [0.3333333333333333, \"#9c179e\"], [0.4444444444444444, \"#bd3786\"], [0.5555555555555556, \"#d8576b\"], [0.6666666666666666, \"#ed7953\"], [0.7777777777777778, \"#fb9f3a\"], [0.8888888888888888, \"#fdca26\"], [1.0, \"#f0f921\"]], \"type\": \"histogram2dcontour\"}], \"mesh3d\": [{\"colorbar\": {\"outlinewidth\": 0, \"ticks\": \"\"}, \"type\": \"mesh3d\"}], \"parcoords\": [{\"line\": {\"colorbar\": {\"outlinewidth\": 0, \"ticks\": \"\"}}, \"type\": \"parcoords\"}], \"pie\": [{\"automargin\": true, \"type\": \"pie\"}], \"scatter\": [{\"marker\": {\"colorbar\": {\"outlinewidth\": 0, \"ticks\": \"\"}}, \"type\": \"scatter\"}], \"scatter3d\": [{\"line\": {\"colorbar\": {\"outlinewidth\": 0, \"ticks\": \"\"}}, \"marker\": {\"colorbar\": {\"outlinewidth\": 0, \"ticks\": \"\"}}, \"type\": \"scatter3d\"}], \"scattercarpet\": [{\"marker\": {\"colorbar\": {\"outlinewidth\": 0, \"ticks\": \"\"}}, \"type\": \"scattercarpet\"}], \"scattergeo\": [{\"marker\": {\"colorbar\": {\"outlinewidth\": 0, \"ticks\": \"\"}}, \"type\": \"scattergeo\"}], \"scattergl\": [{\"marker\": {\"colorbar\": {\"outlinewidth\": 0, \"ticks\": \"\"}}, \"type\": \"scattergl\"}], \"scattermapbox\": [{\"marker\": {\"colorbar\": {\"outlinewidth\": 0, \"ticks\": \"\"}}, \"type\": \"scattermapbox\"}], \"scatterpolar\": [{\"marker\": {\"colorbar\": {\"outlinewidth\": 0, \"ticks\": \"\"}}, \"type\": \"scatterpolar\"}], \"scatterpolargl\": [{\"marker\": {\"colorbar\": {\"outlinewidth\": 0, \"ticks\": \"\"}}, \"type\": \"scatterpolargl\"}], \"scatterternary\": [{\"marker\": {\"colorbar\": {\"outlinewidth\": 0, \"ticks\": \"\"}}, \"type\": \"scatterternary\"}], \"surface\": [{\"colorbar\": {\"outlinewidth\": 0, \"ticks\": \"\"}, \"colorscale\": [[0.0, \"#0d0887\"], [0.1111111111111111, \"#46039f\"], [0.2222222222222222, \"#7201a8\"], [0.3333333333333333, \"#9c179e\"], [0.4444444444444444, \"#bd3786\"], [0.5555555555555556, \"#d8576b\"], [0.6666666666666666, \"#ed7953\"], [0.7777777777777778, \"#fb9f3a\"], [0.8888888888888888, \"#fdca26\"], [1.0, \"#f0f921\"]], \"type\": \"surface\"}], \"table\": [{\"cells\": {\"fill\": {\"color\": \"#EBF0F8\"}, \"line\": {\"color\": \"white\"}}, \"header\": {\"fill\": {\"color\": \"#C8D4E3\"}, \"line\": {\"color\": \"white\"}}, \"type\": \"table\"}]}, \"layout\": {\"annotationdefaults\": {\"arrowcolor\": \"#2a3f5f\", \"arrowhead\": 0, \"arrowwidth\": 1}, \"coloraxis\": {\"colorbar\": {\"outlinewidth\": 0, \"ticks\": \"\"}}, \"colorscale\": {\"diverging\": [[0, \"#8e0152\"], [0.1, \"#c51b7d\"], [0.2, \"#de77ae\"], [0.3, \"#f1b6da\"], [0.4, \"#fde0ef\"], [0.5, \"#f7f7f7\"], [0.6, \"#e6f5d0\"], [0.7, \"#b8e186\"], [0.8, \"#7fbc41\"], [0.9, \"#4d9221\"], [1, \"#276419\"]], \"sequential\": [[0.0, \"#0d0887\"], [0.1111111111111111, \"#46039f\"], [0.2222222222222222, \"#7201a8\"], [0.3333333333333333, \"#9c179e\"], [0.4444444444444444, \"#bd3786\"], [0.5555555555555556, \"#d8576b\"], [0.6666666666666666, \"#ed7953\"], [0.7777777777777778, \"#fb9f3a\"], [0.8888888888888888, \"#fdca26\"], [1.0, \"#f0f921\"]], \"sequentialminus\": [[0.0, \"#0d0887\"], [0.1111111111111111, \"#46039f\"], [0.2222222222222222, \"#7201a8\"], [0.3333333333333333, \"#9c179e\"], [0.4444444444444444, \"#bd3786\"], [0.5555555555555556, \"#d8576b\"], [0.6666666666666666, \"#ed7953\"], [0.7777777777777778, \"#fb9f3a\"], [0.8888888888888888, \"#fdca26\"], [1.0, \"#f0f921\"]]}, \"colorway\": [\"#636efa\", \"#EF553B\", \"#00cc96\", \"#ab63fa\", \"#FFA15A\", \"#19d3f3\", \"#FF6692\", \"#B6E880\", \"#FF97FF\", \"#FECB52\"], \"font\": {\"color\": \"#2a3f5f\"}, \"geo\": {\"bgcolor\": \"white\", \"lakecolor\": \"white\", \"landcolor\": \"#E5ECF6\", \"showlakes\": true, \"showland\": true, \"subunitcolor\": \"white\"}, \"hoverlabel\": {\"align\": \"left\"}, \"hovermode\": \"closest\", \"mapbox\": {\"style\": \"light\"}, \"paper_bgcolor\": \"white\", \"plot_bgcolor\": \"#E5ECF6\", \"polar\": {\"angularaxis\": {\"gridcolor\": \"white\", \"linecolor\": \"white\", \"ticks\": \"\"}, \"bgcolor\": \"#E5ECF6\", \"radialaxis\": {\"gridcolor\": \"white\", \"linecolor\": \"white\", \"ticks\": \"\"}}, \"scene\": {\"xaxis\": {\"backgroundcolor\": \"#E5ECF6\", \"gridcolor\": \"white\", \"gridwidth\": 2, \"linecolor\": \"white\", \"showbackground\": true, \"ticks\": \"\", \"zerolinecolor\": \"white\"}, \"yaxis\": {\"backgroundcolor\": \"#E5ECF6\", \"gridcolor\": \"white\", \"gridwidth\": 2, \"linecolor\": \"white\", \"showbackground\": true, \"ticks\": \"\", \"zerolinecolor\": \"white\"}, \"zaxis\": {\"backgroundcolor\": \"#E5ECF6\", \"gridcolor\": \"white\", \"gridwidth\": 2, \"linecolor\": \"white\", \"showbackground\": true, \"ticks\": \"\", \"zerolinecolor\": \"white\"}}, \"shapedefaults\": {\"line\": {\"color\": \"#2a3f5f\"}}, \"ternary\": {\"aaxis\": {\"gridcolor\": \"white\", \"linecolor\": \"white\", \"ticks\": \"\"}, \"baxis\": {\"gridcolor\": \"white\", \"linecolor\": \"white\", \"ticks\": \"\"}, \"bgcolor\": \"#E5ECF6\", \"caxis\": {\"gridcolor\": \"white\", \"linecolor\": \"white\", \"ticks\": \"\"}}, \"title\": {\"x\": 0.05}, \"xaxis\": {\"automargin\": true, \"gridcolor\": \"white\", \"linecolor\": \"white\", \"ticks\": \"\", \"title\": {\"standoff\": 15}, \"zerolinecolor\": \"white\", \"zerolinewidth\": 2}, \"yaxis\": {\"automargin\": true, \"gridcolor\": \"white\", \"linecolor\": \"white\", \"ticks\": \"\", \"title\": {\"standoff\": 15}, \"zerolinecolor\": \"white\", \"zerolinewidth\": 2}}}, \"title\": {\"font\": {\"color\": \"#4D5663\"}}, \"xaxis\": {\"gridcolor\": \"#E1E5ED\", \"showgrid\": true, \"tickfont\": {\"color\": \"#4D5663\"}, \"title\": {\"font\": {\"color\": \"#4D5663\"}, \"text\": \"\"}, \"zerolinecolor\": \"#E1E5ED\"}, \"yaxis\": {\"gridcolor\": \"#E1E5ED\", \"showgrid\": true, \"tickfont\": {\"color\": \"#4D5663\"}, \"title\": {\"font\": {\"color\": \"#4D5663\"}, \"text\": \"\"}, \"zerolinecolor\": \"#E1E5ED\"}},\n",
       "                        {\"showLink\": true, \"linkText\": \"Export to plot.ly\", \"plotlyServerURL\": \"https://plot.ly\", \"responsive\": true}\n",
       "                    ).then(function(){\n",
       "                            \n",
       "var gd = document.getElementById('9fe8dc38-e4df-4421-87e8-fdcd4209a17d');\n",
       "var x = new MutationObserver(function (mutations, observer) {{\n",
       "        var display = window.getComputedStyle(gd).display;\n",
       "        if (!display || display === 'none') {{\n",
       "            console.log([gd, 'removed!']);\n",
       "            Plotly.purge(gd);\n",
       "            observer.disconnect();\n",
       "        }}\n",
       "}});\n",
       "\n",
       "// Listen for the removal of the full notebook cells\n",
       "var notebookContainer = gd.closest('#notebook-container');\n",
       "if (notebookContainer) {{\n",
       "    x.observe(notebookContainer, {childList: true});\n",
       "}}\n",
       "\n",
       "// Listen for the clearing of the current output cell\n",
       "var outputEl = gd.closest('.output');\n",
       "if (outputEl) {{\n",
       "    x.observe(outputEl, {childList: true});\n",
       "}}\n",
       "\n",
       "                        })\n",
       "                };\n",
       "                });\n",
       "            </script>\n",
       "        </div>"
      ]
     },
     "metadata": {},
     "output_type": "display_data"
    }
   ],
   "source": [
    "#command to display graphics correctly in a Jupyter notebook\n",
    "#selecting one column of data: \"Age (years)\"\n",
    "values = df_less3[['VALUE']]\n",
    "values\n",
    "\n",
    "#use iplot() function to create a simeple line graph\n",
    "#note - x axis are indices (row names)\n",
    "values.iplot()"
   ]
  },
  {
   "cell_type": "markdown",
   "metadata": {},
   "source": [
    "The graph above shows the amount of energy (in MW) produced through fossil fuel consumption. The graph follows a volatile trend, with fossil fuel consumption rising and dropping seasonally. Even though more environmentally-friendly fuel options exist, the overall consumption of fossil fuels has not increased between 2008 and 2020. This reveals the dependency our society has on fossil fuels."
   ]
  },
  {
   "cell_type": "markdown",
   "metadata": {},
   "source": [
    "# Conclusion\n",
    "Overall, our team concludes that given the data which supports the inevitable collapse of earth, it is in humanity's best interest to colonize Mars. Global temperatures in cities around the world have been experiencing unprecedented increases and will continue to do so which threatens the livability of many major cities. Despite recent developments in energy production, the quantity and rate of fossil fuel consumption has remained unchanged, suggesting green energy may never come to replace carbon intensive methods. Thus, we believe it is vital for human beings to venture out to seek new, habitable and long term sustainable planets before our earth cannot sustain the human race any longer. "
   ]
  }
 ],
 "metadata": {
  "kernelspec": {
   "display_name": "Python 3",
   "language": "python",
   "name": "python3"
  },
  "language_info": {
   "codemirror_mode": {
    "name": "ipython",
    "version": 3
   },
   "file_extension": ".py",
   "mimetype": "text/x-python",
   "name": "python",
   "nbconvert_exporter": "python",
   "pygments_lexer": "ipython3",
   "version": "3.7.4"
  }
 },
 "nbformat": 4,
 "nbformat_minor": 4
}
